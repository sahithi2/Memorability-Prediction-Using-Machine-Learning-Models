{
  "nbformat": 4,
  "nbformat_minor": 0,
  "metadata": {
    "colab": {
      "name": "combination.ipynb",
      "provenance": [],
      "collapsed_sections": []
    },
    "kernelspec": {
      "display_name": "Python 3",
      "name": "python3"
    },
    "language_info": {
      "name": "python"
    }
  },
  "cells": [
    {
      "cell_type": "code",
      "metadata": {
        "colab": {
          "base_uri": "https://localhost:8080/"
        },
        "id": "2kI4DSfkghGi",
        "outputId": "422c331a-ff74-4507-a1f9-71b55f5db0a5"
      },
      "source": [
        "from google.colab import drive\n",
        "drive.mount('/content/drive', force_remount = True)"
      ],
      "execution_count": null,
      "outputs": [
        {
          "output_type": "stream",
          "text": [
            "Mounted at /content/drive\n"
          ],
          "name": "stdout"
        }
      ]
    },
    {
      "cell_type": "code",
      "metadata": {
        "id": "poXu0dpmgmvZ"
      },
      "source": [
        "import numpy as np\n",
        "import pandas as pd\n",
        "import matplotlib.pyplot as plt\n",
        "import glob\n",
        "import os"
      ],
      "execution_count": null,
      "outputs": []
    },
    {
      "cell_type": "code",
      "metadata": {
        "id": "StTPGsE8luRC"
      },
      "source": [
        "os.chdir('/content/drive/My Drive')"
      ],
      "execution_count": null,
      "outputs": []
    },
    {
      "cell_type": "markdown",
      "metadata": {
        "id": "a7ZMLmYWDROQ"
      },
      "source": [
        "### **GROUND TRUTH VALUES**"
      ]
    },
    {
      "cell_type": "markdown",
      "metadata": {
        "id": "rulJJXlFh56Q"
      },
      "source": [
        "*Importing and reading the ground-truth dataset which is in .csv format*"
      ]
    },
    {
      "cell_type": "code",
      "metadata": {
        "colab": {
          "base_uri": "https://localhost:8080/",
          "height": 402
        },
        "id": "wYLYIBctgmyE",
        "outputId": "cd5a87a7-d031-4ba1-825e-549253efd9f4"
      },
      "source": [
        "Ground_Truth_train = pd.read_csv('/content/drive/My Drive/CA684_Assignment/Dev-set/ground-truth.csv')\n",
        "Ground_Truth_train"
      ],
      "execution_count": null,
      "outputs": [
        {
          "output_type": "execute_result",
          "data": {
            "text/html": [
              "<div>\n",
              "<style scoped>\n",
              "    .dataframe tbody tr th:only-of-type {\n",
              "        vertical-align: middle;\n",
              "    }\n",
              "\n",
              "    .dataframe tbody tr th {\n",
              "        vertical-align: top;\n",
              "    }\n",
              "\n",
              "    .dataframe thead th {\n",
              "        text-align: right;\n",
              "    }\n",
              "</style>\n",
              "<table border=\"1\" class=\"dataframe\">\n",
              "  <thead>\n",
              "    <tr style=\"text-align: right;\">\n",
              "      <th></th>\n",
              "      <th>video</th>\n",
              "      <th>short-term_memorability</th>\n",
              "      <th>nb_short-term_annotations</th>\n",
              "      <th>long-term_memorability</th>\n",
              "      <th>nb_long-term_annotations</th>\n",
              "    </tr>\n",
              "  </thead>\n",
              "  <tbody>\n",
              "    <tr>\n",
              "      <th>0</th>\n",
              "      <td>video3.webm</td>\n",
              "      <td>0.924</td>\n",
              "      <td>34</td>\n",
              "      <td>0.846</td>\n",
              "      <td>13</td>\n",
              "    </tr>\n",
              "    <tr>\n",
              "      <th>1</th>\n",
              "      <td>video4.webm</td>\n",
              "      <td>0.923</td>\n",
              "      <td>33</td>\n",
              "      <td>0.667</td>\n",
              "      <td>12</td>\n",
              "    </tr>\n",
              "    <tr>\n",
              "      <th>2</th>\n",
              "      <td>video6.webm</td>\n",
              "      <td>0.863</td>\n",
              "      <td>33</td>\n",
              "      <td>0.700</td>\n",
              "      <td>10</td>\n",
              "    </tr>\n",
              "    <tr>\n",
              "      <th>3</th>\n",
              "      <td>video8.webm</td>\n",
              "      <td>0.922</td>\n",
              "      <td>33</td>\n",
              "      <td>0.818</td>\n",
              "      <td>11</td>\n",
              "    </tr>\n",
              "    <tr>\n",
              "      <th>4</th>\n",
              "      <td>video10.webm</td>\n",
              "      <td>0.950</td>\n",
              "      <td>34</td>\n",
              "      <td>0.900</td>\n",
              "      <td>10</td>\n",
              "    </tr>\n",
              "    <tr>\n",
              "      <th>...</th>\n",
              "      <td>...</td>\n",
              "      <td>...</td>\n",
              "      <td>...</td>\n",
              "      <td>...</td>\n",
              "      <td>...</td>\n",
              "    </tr>\n",
              "    <tr>\n",
              "      <th>5995</th>\n",
              "      <td>video7488.webm</td>\n",
              "      <td>0.921</td>\n",
              "      <td>33</td>\n",
              "      <td>1.000</td>\n",
              "      <td>9</td>\n",
              "    </tr>\n",
              "    <tr>\n",
              "      <th>5996</th>\n",
              "      <td>video7489.webm</td>\n",
              "      <td>0.909</td>\n",
              "      <td>53</td>\n",
              "      <td>0.839</td>\n",
              "      <td>31</td>\n",
              "    </tr>\n",
              "    <tr>\n",
              "      <th>5997</th>\n",
              "      <td>video7491.webm</td>\n",
              "      <td>0.713</td>\n",
              "      <td>33</td>\n",
              "      <td>0.818</td>\n",
              "      <td>11</td>\n",
              "    </tr>\n",
              "    <tr>\n",
              "      <th>5998</th>\n",
              "      <td>video7492.webm</td>\n",
              "      <td>0.954</td>\n",
              "      <td>34</td>\n",
              "      <td>1.000</td>\n",
              "      <td>16</td>\n",
              "    </tr>\n",
              "    <tr>\n",
              "      <th>5999</th>\n",
              "      <td>video7493.webm</td>\n",
              "      <td>0.953</td>\n",
              "      <td>33</td>\n",
              "      <td>0.615</td>\n",
              "      <td>13</td>\n",
              "    </tr>\n",
              "  </tbody>\n",
              "</table>\n",
              "<p>6000 rows × 5 columns</p>\n",
              "</div>"
            ],
            "text/plain": [
              "               video  ...  nb_long-term_annotations\n",
              "0        video3.webm  ...                        13\n",
              "1        video4.webm  ...                        12\n",
              "2        video6.webm  ...                        10\n",
              "3        video8.webm  ...                        11\n",
              "4       video10.webm  ...                        10\n",
              "...              ...  ...                       ...\n",
              "5995  video7488.webm  ...                         9\n",
              "5996  video7489.webm  ...                        31\n",
              "5997  video7491.webm  ...                        11\n",
              "5998  video7492.webm  ...                        16\n",
              "5999  video7493.webm  ...                        13\n",
              "\n",
              "[6000 rows x 5 columns]"
            ]
          },
          "metadata": {
            "tags": []
          },
          "execution_count": 4
        }
      ]
    },
    {
      "cell_type": "markdown",
      "metadata": {
        "id": "0xic3bJ-iPY3"
      },
      "source": [
        "*Checking the correlation between the columns of ground-truth.csv*"
      ]
    },
    {
      "cell_type": "code",
      "metadata": {
        "colab": {
          "base_uri": "https://localhost:8080/",
          "height": 166
        },
        "id": "bLnbkz3Ggm1c",
        "outputId": "9a0a3e85-33f7-41e3-d3ba-7410cd825760"
      },
      "source": [
        "Ground_Truth_train.corr()"
      ],
      "execution_count": null,
      "outputs": [
        {
          "output_type": "execute_result",
          "data": {
            "text/html": [
              "<div>\n",
              "<style scoped>\n",
              "    .dataframe tbody tr th:only-of-type {\n",
              "        vertical-align: middle;\n",
              "    }\n",
              "\n",
              "    .dataframe tbody tr th {\n",
              "        vertical-align: top;\n",
              "    }\n",
              "\n",
              "    .dataframe thead th {\n",
              "        text-align: right;\n",
              "    }\n",
              "</style>\n",
              "<table border=\"1\" class=\"dataframe\">\n",
              "  <thead>\n",
              "    <tr style=\"text-align: right;\">\n",
              "      <th></th>\n",
              "      <th>short-term_memorability</th>\n",
              "      <th>nb_short-term_annotations</th>\n",
              "      <th>long-term_memorability</th>\n",
              "      <th>nb_long-term_annotations</th>\n",
              "    </tr>\n",
              "  </thead>\n",
              "  <tbody>\n",
              "    <tr>\n",
              "      <th>short-term_memorability</th>\n",
              "      <td>1.000000</td>\n",
              "      <td>-0.021178</td>\n",
              "      <td>0.325002</td>\n",
              "      <td>-0.013858</td>\n",
              "    </tr>\n",
              "    <tr>\n",
              "      <th>nb_short-term_annotations</th>\n",
              "      <td>-0.021178</td>\n",
              "      <td>1.000000</td>\n",
              "      <td>-0.047093</td>\n",
              "      <td>0.285548</td>\n",
              "    </tr>\n",
              "    <tr>\n",
              "      <th>long-term_memorability</th>\n",
              "      <td>0.325002</td>\n",
              "      <td>-0.047093</td>\n",
              "      <td>1.000000</td>\n",
              "      <td>0.036051</td>\n",
              "    </tr>\n",
              "    <tr>\n",
              "      <th>nb_long-term_annotations</th>\n",
              "      <td>-0.013858</td>\n",
              "      <td>0.285548</td>\n",
              "      <td>0.036051</td>\n",
              "      <td>1.000000</td>\n",
              "    </tr>\n",
              "  </tbody>\n",
              "</table>\n",
              "</div>"
            ],
            "text/plain": [
              "                           short-term_memorability  ...  nb_long-term_annotations\n",
              "short-term_memorability                   1.000000  ...                 -0.013858\n",
              "nb_short-term_annotations                -0.021178  ...                  0.285548\n",
              "long-term_memorability                    0.325002  ...                  0.036051\n",
              "nb_long-term_annotations                 -0.013858  ...                  1.000000\n",
              "\n",
              "[4 rows x 4 columns]"
            ]
          },
          "metadata": {
            "tags": []
          },
          "execution_count": 5
        }
      ]
    },
    {
      "cell_type": "markdown",
      "metadata": {
        "id": "5uxbiP5wif52"
      },
      "source": [
        "*As seen in the above output annotations doesn't have high correlation so we are drooping them*"
      ]
    },
    {
      "cell_type": "code",
      "metadata": {
        "id": "Q84ImEgtip-M"
      },
      "source": [
        "Ground_Truth_train = Ground_Truth_train.drop(['nb_short-term_annotations', 'nb_long-term_annotations'],axis=1)"
      ],
      "execution_count": null,
      "outputs": []
    },
    {
      "cell_type": "code",
      "metadata": {
        "colab": {
          "base_uri": "https://localhost:8080/",
          "height": 402
        },
        "id": "sq5WYistjadc",
        "outputId": "035c623f-3d13-464f-c9a5-93259e168796"
      },
      "source": [
        "Ground_Truth_train"
      ],
      "execution_count": null,
      "outputs": [
        {
          "output_type": "execute_result",
          "data": {
            "text/html": [
              "<div>\n",
              "<style scoped>\n",
              "    .dataframe tbody tr th:only-of-type {\n",
              "        vertical-align: middle;\n",
              "    }\n",
              "\n",
              "    .dataframe tbody tr th {\n",
              "        vertical-align: top;\n",
              "    }\n",
              "\n",
              "    .dataframe thead th {\n",
              "        text-align: right;\n",
              "    }\n",
              "</style>\n",
              "<table border=\"1\" class=\"dataframe\">\n",
              "  <thead>\n",
              "    <tr style=\"text-align: right;\">\n",
              "      <th></th>\n",
              "      <th>video</th>\n",
              "      <th>short-term_memorability</th>\n",
              "      <th>long-term_memorability</th>\n",
              "    </tr>\n",
              "  </thead>\n",
              "  <tbody>\n",
              "    <tr>\n",
              "      <th>0</th>\n",
              "      <td>video3.webm</td>\n",
              "      <td>0.924</td>\n",
              "      <td>0.846</td>\n",
              "    </tr>\n",
              "    <tr>\n",
              "      <th>1</th>\n",
              "      <td>video4.webm</td>\n",
              "      <td>0.923</td>\n",
              "      <td>0.667</td>\n",
              "    </tr>\n",
              "    <tr>\n",
              "      <th>2</th>\n",
              "      <td>video6.webm</td>\n",
              "      <td>0.863</td>\n",
              "      <td>0.700</td>\n",
              "    </tr>\n",
              "    <tr>\n",
              "      <th>3</th>\n",
              "      <td>video8.webm</td>\n",
              "      <td>0.922</td>\n",
              "      <td>0.818</td>\n",
              "    </tr>\n",
              "    <tr>\n",
              "      <th>4</th>\n",
              "      <td>video10.webm</td>\n",
              "      <td>0.950</td>\n",
              "      <td>0.900</td>\n",
              "    </tr>\n",
              "    <tr>\n",
              "      <th>...</th>\n",
              "      <td>...</td>\n",
              "      <td>...</td>\n",
              "      <td>...</td>\n",
              "    </tr>\n",
              "    <tr>\n",
              "      <th>5995</th>\n",
              "      <td>video7488.webm</td>\n",
              "      <td>0.921</td>\n",
              "      <td>1.000</td>\n",
              "    </tr>\n",
              "    <tr>\n",
              "      <th>5996</th>\n",
              "      <td>video7489.webm</td>\n",
              "      <td>0.909</td>\n",
              "      <td>0.839</td>\n",
              "    </tr>\n",
              "    <tr>\n",
              "      <th>5997</th>\n",
              "      <td>video7491.webm</td>\n",
              "      <td>0.713</td>\n",
              "      <td>0.818</td>\n",
              "    </tr>\n",
              "    <tr>\n",
              "      <th>5998</th>\n",
              "      <td>video7492.webm</td>\n",
              "      <td>0.954</td>\n",
              "      <td>1.000</td>\n",
              "    </tr>\n",
              "    <tr>\n",
              "      <th>5999</th>\n",
              "      <td>video7493.webm</td>\n",
              "      <td>0.953</td>\n",
              "      <td>0.615</td>\n",
              "    </tr>\n",
              "  </tbody>\n",
              "</table>\n",
              "<p>6000 rows × 3 columns</p>\n",
              "</div>"
            ],
            "text/plain": [
              "               video  short-term_memorability  long-term_memorability\n",
              "0        video3.webm                    0.924                   0.846\n",
              "1        video4.webm                    0.923                   0.667\n",
              "2        video6.webm                    0.863                   0.700\n",
              "3        video8.webm                    0.922                   0.818\n",
              "4       video10.webm                    0.950                   0.900\n",
              "...              ...                      ...                     ...\n",
              "5995  video7488.webm                    0.921                   1.000\n",
              "5996  video7489.webm                    0.909                   0.839\n",
              "5997  video7491.webm                    0.713                   0.818\n",
              "5998  video7492.webm                    0.954                   1.000\n",
              "5999  video7493.webm                    0.953                   0.615\n",
              "\n",
              "[6000 rows x 3 columns]"
            ]
          },
          "metadata": {
            "tags": []
          },
          "execution_count": 7
        }
      ]
    },
    {
      "cell_type": "markdown",
      "metadata": {
        "id": "FRmke7B4GpRJ"
      },
      "source": [
        "### **C3D_DEVSET**"
      ]
    },
    {
      "cell_type": "markdown",
      "metadata": {
        "id": "3vQgI81wj_DR"
      },
      "source": [
        "*Defining a method to read the C3D features from the given .txt files*"
      ]
    },
    {
      "cell_type": "code",
      "metadata": {
        "id": "OWqm7IGCjrQl"
      },
      "source": [
        "def read_C3D(fname):\n",
        "    \"\"\"Scan vectors from file\"\"\"\n",
        "    with open(fname) as f:\n",
        "        for line in f:\n",
        "            C3D =[float(item) for item in line.split()] # convert to float type, using default separator\n",
        "    return C3D"
      ],
      "execution_count": null,
      "outputs": []
    },
    {
      "cell_type": "markdown",
      "metadata": {
        "id": "sGG-BmpGkdvw"
      },
      "source": [
        "*Calling a method to get the C3D features and creating the array lists using loop to store them.*"
      ]
    },
    {
      "cell_type": "code",
      "metadata": {
        "id": "TsDhliwkjrTC"
      },
      "source": [
        "my_numlist= [] # Creating a list to store the C3D features\n",
        "my_namelist = [] #Creating a list to store the videos names\n",
        "path = 'Dev-set/C3D/*.txt'\n",
        "for filename in glob.glob('Dev-set/C3D/*.txt'):\n",
        "    s= read_C3D(filename)\n",
        "    my_numlist.append(s)\n",
        "    my_namelist.append(((filename.split('/')[-1]).split('.')[0])+ '.webm') \n",
        "#adding .webm so that it can be similar to the name of the vedioes present in the ground-truth.csv"
      ],
      "execution_count": null,
      "outputs": []
    },
    {
      "cell_type": "code",
      "metadata": {
        "colab": {
          "base_uri": "https://localhost:8080/"
        },
        "id": "ifSRC8EWjrWm",
        "outputId": "64548699-7110-4437-a679-a9b844839b35"
      },
      "source": [
        "len(my_numlist[0]) #Checking the no.of features captured"
      ],
      "execution_count": null,
      "outputs": [
        {
          "output_type": "execute_result",
          "data": {
            "text/plain": [
              "101"
            ]
          },
          "metadata": {
            "tags": []
          },
          "execution_count": 10
        }
      ]
    },
    {
      "cell_type": "code",
      "metadata": {
        "colab": {
          "base_uri": "https://localhost:8080/"
        },
        "id": "uE3dL10kvNwh",
        "outputId": "5cbf8974-913e-4b33-c772-e28b9ba24005"
      },
      "source": [
        "len(my_numlist) "
      ],
      "execution_count": null,
      "outputs": [
        {
          "output_type": "execute_result",
          "data": {
            "text/plain": [
              "6000"
            ]
          },
          "metadata": {
            "tags": []
          },
          "execution_count": 11
        }
      ]
    },
    {
      "cell_type": "markdown",
      "metadata": {
        "id": "5QTHuI7wvcIV"
      },
      "source": [
        "*Creating a dataframe to store the extracted C3D features along with corresponding video names*"
      ]
    },
    {
      "cell_type": "code",
      "metadata": {
        "id": "yQJZ8Gv9vN0K"
      },
      "source": [
        "c3d_devset = pd.DataFrame(np.array(my_numlist).reshape(6000,101))\n",
        "c3d_devset[\"video\"] = my_namelist\n",
        "#creating new column as video and assigning the names of the vidoes"
      ],
      "execution_count": null,
      "outputs": []
    },
    {
      "cell_type": "code",
      "metadata": {
        "colab": {
          "base_uri": "https://localhost:8080/",
          "height": 328
        },
        "id": "ZNmcalzvwUpY",
        "outputId": "2405ea29-9475-4ef2-dbf5-00e3fb58a6c8"
      },
      "source": [
        "c3d_devset.head() #includes video names and captions, which will help further while merging these features with ground truth"
      ],
      "execution_count": null,
      "outputs": [
        {
          "output_type": "execute_result",
          "data": {
            "text/html": [
              "<div>\n",
              "<style scoped>\n",
              "    .dataframe tbody tr th:only-of-type {\n",
              "        vertical-align: middle;\n",
              "    }\n",
              "\n",
              "    .dataframe tbody tr th {\n",
              "        vertical-align: top;\n",
              "    }\n",
              "\n",
              "    .dataframe thead th {\n",
              "        text-align: right;\n",
              "    }\n",
              "</style>\n",
              "<table border=\"1\" class=\"dataframe\">\n",
              "  <thead>\n",
              "    <tr style=\"text-align: right;\">\n",
              "      <th></th>\n",
              "      <th>0</th>\n",
              "      <th>1</th>\n",
              "      <th>2</th>\n",
              "      <th>3</th>\n",
              "      <th>4</th>\n",
              "      <th>5</th>\n",
              "      <th>6</th>\n",
              "      <th>7</th>\n",
              "      <th>8</th>\n",
              "      <th>9</th>\n",
              "      <th>10</th>\n",
              "      <th>11</th>\n",
              "      <th>12</th>\n",
              "      <th>13</th>\n",
              "      <th>14</th>\n",
              "      <th>15</th>\n",
              "      <th>16</th>\n",
              "      <th>17</th>\n",
              "      <th>18</th>\n",
              "      <th>19</th>\n",
              "      <th>20</th>\n",
              "      <th>21</th>\n",
              "      <th>22</th>\n",
              "      <th>23</th>\n",
              "      <th>24</th>\n",
              "      <th>25</th>\n",
              "      <th>26</th>\n",
              "      <th>27</th>\n",
              "      <th>28</th>\n",
              "      <th>29</th>\n",
              "      <th>30</th>\n",
              "      <th>31</th>\n",
              "      <th>32</th>\n",
              "      <th>33</th>\n",
              "      <th>34</th>\n",
              "      <th>35</th>\n",
              "      <th>36</th>\n",
              "      <th>37</th>\n",
              "      <th>38</th>\n",
              "      <th>39</th>\n",
              "      <th>...</th>\n",
              "      <th>62</th>\n",
              "      <th>63</th>\n",
              "      <th>64</th>\n",
              "      <th>65</th>\n",
              "      <th>66</th>\n",
              "      <th>67</th>\n",
              "      <th>68</th>\n",
              "      <th>69</th>\n",
              "      <th>70</th>\n",
              "      <th>71</th>\n",
              "      <th>72</th>\n",
              "      <th>73</th>\n",
              "      <th>74</th>\n",
              "      <th>75</th>\n",
              "      <th>76</th>\n",
              "      <th>77</th>\n",
              "      <th>78</th>\n",
              "      <th>79</th>\n",
              "      <th>80</th>\n",
              "      <th>81</th>\n",
              "      <th>82</th>\n",
              "      <th>83</th>\n",
              "      <th>84</th>\n",
              "      <th>85</th>\n",
              "      <th>86</th>\n",
              "      <th>87</th>\n",
              "      <th>88</th>\n",
              "      <th>89</th>\n",
              "      <th>90</th>\n",
              "      <th>91</th>\n",
              "      <th>92</th>\n",
              "      <th>93</th>\n",
              "      <th>94</th>\n",
              "      <th>95</th>\n",
              "      <th>96</th>\n",
              "      <th>97</th>\n",
              "      <th>98</th>\n",
              "      <th>99</th>\n",
              "      <th>100</th>\n",
              "      <th>video</th>\n",
              "    </tr>\n",
              "  </thead>\n",
              "  <tbody>\n",
              "    <tr>\n",
              "      <th>0</th>\n",
              "      <td>0.010858</td>\n",
              "      <td>0.010386</td>\n",
              "      <td>0.000000</td>\n",
              "      <td>0.000000e+00</td>\n",
              "      <td>0.000000e+00</td>\n",
              "      <td>0.000000</td>\n",
              "      <td>2.700000e-07</td>\n",
              "      <td>0.000000</td>\n",
              "      <td>1.000000e-08</td>\n",
              "      <td>3.400000e-07</td>\n",
              "      <td>8.000000e-08</td>\n",
              "      <td>1.000000e-08</td>\n",
              "      <td>0.000004</td>\n",
              "      <td>0.000105</td>\n",
              "      <td>0.000000e+00</td>\n",
              "      <td>4.000000e-08</td>\n",
              "      <td>1.000000e-08</td>\n",
              "      <td>0.000000</td>\n",
              "      <td>0.000000</td>\n",
              "      <td>1.331800e-04</td>\n",
              "      <td>0.000000e+00</td>\n",
              "      <td>0.000000</td>\n",
              "      <td>0.000000e+00</td>\n",
              "      <td>0.000000e+00</td>\n",
              "      <td>7.600000e-07</td>\n",
              "      <td>0.000000</td>\n",
              "      <td>9.800000e-07</td>\n",
              "      <td>0.000000e+00</td>\n",
              "      <td>0.000000</td>\n",
              "      <td>0.000000e+00</td>\n",
              "      <td>0.000000</td>\n",
              "      <td>0.000000</td>\n",
              "      <td>6.000000e-08</td>\n",
              "      <td>0.000021</td>\n",
              "      <td>5.000000e-08</td>\n",
              "      <td>0.000000e+00</td>\n",
              "      <td>1.000000e-08</td>\n",
              "      <td>3.000000e-08</td>\n",
              "      <td>2.000000e-08</td>\n",
              "      <td>0.000000e+00</td>\n",
              "      <td>...</td>\n",
              "      <td>0.970125</td>\n",
              "      <td>0.000016</td>\n",
              "      <td>0.001298</td>\n",
              "      <td>0.000032</td>\n",
              "      <td>0.000001</td>\n",
              "      <td>0.000000</td>\n",
              "      <td>0.000000</td>\n",
              "      <td>1.000000e-08</td>\n",
              "      <td>2.500000e-07</td>\n",
              "      <td>0.000000e+00</td>\n",
              "      <td>0.000000</td>\n",
              "      <td>5.000000e-08</td>\n",
              "      <td>0.000000</td>\n",
              "      <td>1.000000e-08</td>\n",
              "      <td>1.000000e-08</td>\n",
              "      <td>4.200000e-07</td>\n",
              "      <td>0.000000e+00</td>\n",
              "      <td>3.000000e-08</td>\n",
              "      <td>2.000000e-08</td>\n",
              "      <td>0.000000</td>\n",
              "      <td>0.000000</td>\n",
              "      <td>0.000000</td>\n",
              "      <td>6.000000e-08</td>\n",
              "      <td>0.000000</td>\n",
              "      <td>0.000000</td>\n",
              "      <td>9.000000e-08</td>\n",
              "      <td>0.000000</td>\n",
              "      <td>0.000000e+00</td>\n",
              "      <td>1.100000e-07</td>\n",
              "      <td>1.400000e-07</td>\n",
              "      <td>0.000000</td>\n",
              "      <td>0.000000</td>\n",
              "      <td>1.700000e-07</td>\n",
              "      <td>0.000000</td>\n",
              "      <td>0.000000e+00</td>\n",
              "      <td>1.000000e-08</td>\n",
              "      <td>1.300000e-06</td>\n",
              "      <td>2.600000e-06</td>\n",
              "      <td>8.000000e-08</td>\n",
              "      <td>video6632.webm</td>\n",
              "    </tr>\n",
              "    <tr>\n",
              "      <th>1</th>\n",
              "      <td>0.000200</td>\n",
              "      <td>0.000065</td>\n",
              "      <td>0.993807</td>\n",
              "      <td>2.000000e-07</td>\n",
              "      <td>4.700000e-07</td>\n",
              "      <td>0.000073</td>\n",
              "      <td>3.700000e-06</td>\n",
              "      <td>0.000337</td>\n",
              "      <td>6.710000e-06</td>\n",
              "      <td>2.290000e-06</td>\n",
              "      <td>6.380000e-06</td>\n",
              "      <td>7.340000e-06</td>\n",
              "      <td>0.000019</td>\n",
              "      <td>0.000007</td>\n",
              "      <td>3.240000e-06</td>\n",
              "      <td>3.810000e-06</td>\n",
              "      <td>1.411000e-05</td>\n",
              "      <td>0.000001</td>\n",
              "      <td>0.000003</td>\n",
              "      <td>2.300000e-07</td>\n",
              "      <td>1.900000e-07</td>\n",
              "      <td>0.002938</td>\n",
              "      <td>5.200000e-07</td>\n",
              "      <td>9.200000e-07</td>\n",
              "      <td>1.136000e-05</td>\n",
              "      <td>0.000011</td>\n",
              "      <td>3.310400e-04</td>\n",
              "      <td>9.200000e-07</td>\n",
              "      <td>0.000022</td>\n",
              "      <td>8.000000e-08</td>\n",
              "      <td>0.000028</td>\n",
              "      <td>0.000013</td>\n",
              "      <td>5.778000e-05</td>\n",
              "      <td>0.000037</td>\n",
              "      <td>1.683000e-05</td>\n",
              "      <td>6.860000e-06</td>\n",
              "      <td>3.990000e-06</td>\n",
              "      <td>8.030000e-06</td>\n",
              "      <td>1.450000e-06</td>\n",
              "      <td>3.800000e-07</td>\n",
              "      <td>...</td>\n",
              "      <td>0.000027</td>\n",
              "      <td>0.000013</td>\n",
              "      <td>0.000077</td>\n",
              "      <td>0.000050</td>\n",
              "      <td>0.000138</td>\n",
              "      <td>0.000012</td>\n",
              "      <td>0.000007</td>\n",
              "      <td>4.100000e-07</td>\n",
              "      <td>5.440000e-06</td>\n",
              "      <td>3.400000e-07</td>\n",
              "      <td>0.000007</td>\n",
              "      <td>8.399000e-05</td>\n",
              "      <td>0.000004</td>\n",
              "      <td>3.970000e-06</td>\n",
              "      <td>5.900000e-07</td>\n",
              "      <td>1.285300e-04</td>\n",
              "      <td>8.800000e-07</td>\n",
              "      <td>2.228000e-05</td>\n",
              "      <td>1.105000e-05</td>\n",
              "      <td>0.000003</td>\n",
              "      <td>0.000015</td>\n",
              "      <td>0.000014</td>\n",
              "      <td>4.090000e-06</td>\n",
              "      <td>0.000003</td>\n",
              "      <td>0.000005</td>\n",
              "      <td>4.920000e-06</td>\n",
              "      <td>0.000005</td>\n",
              "      <td>6.400000e-07</td>\n",
              "      <td>2.372000e-05</td>\n",
              "      <td>6.610000e-06</td>\n",
              "      <td>0.000010</td>\n",
              "      <td>0.000002</td>\n",
              "      <td>5.800000e-06</td>\n",
              "      <td>0.000001</td>\n",
              "      <td>1.490000e-06</td>\n",
              "      <td>1.170000e-05</td>\n",
              "      <td>1.500000e-07</td>\n",
              "      <td>8.300000e-07</td>\n",
              "      <td>1.060000e-04</td>\n",
              "      <td>video6634.webm</td>\n",
              "    </tr>\n",
              "    <tr>\n",
              "      <th>2</th>\n",
              "      <td>0.000000</td>\n",
              "      <td>0.000000</td>\n",
              "      <td>0.000000</td>\n",
              "      <td>0.000000e+00</td>\n",
              "      <td>0.000000e+00</td>\n",
              "      <td>0.000000</td>\n",
              "      <td>0.000000e+00</td>\n",
              "      <td>0.000000</td>\n",
              "      <td>0.000000e+00</td>\n",
              "      <td>0.000000e+00</td>\n",
              "      <td>0.000000e+00</td>\n",
              "      <td>0.000000e+00</td>\n",
              "      <td>0.000000</td>\n",
              "      <td>0.000000</td>\n",
              "      <td>0.000000e+00</td>\n",
              "      <td>0.000000e+00</td>\n",
              "      <td>0.000000e+00</td>\n",
              "      <td>0.000000</td>\n",
              "      <td>0.000000</td>\n",
              "      <td>0.000000e+00</td>\n",
              "      <td>0.000000e+00</td>\n",
              "      <td>0.000008</td>\n",
              "      <td>0.000000e+00</td>\n",
              "      <td>0.000000e+00</td>\n",
              "      <td>0.000000e+00</td>\n",
              "      <td>0.000000</td>\n",
              "      <td>0.000000e+00</td>\n",
              "      <td>0.000000e+00</td>\n",
              "      <td>0.000000</td>\n",
              "      <td>0.000000e+00</td>\n",
              "      <td>0.000000</td>\n",
              "      <td>0.000000</td>\n",
              "      <td>0.000000e+00</td>\n",
              "      <td>0.000000</td>\n",
              "      <td>0.000000e+00</td>\n",
              "      <td>0.000000e+00</td>\n",
              "      <td>0.000000e+00</td>\n",
              "      <td>0.000000e+00</td>\n",
              "      <td>0.000000e+00</td>\n",
              "      <td>0.000000e+00</td>\n",
              "      <td>...</td>\n",
              "      <td>0.000000</td>\n",
              "      <td>0.000000</td>\n",
              "      <td>0.000000</td>\n",
              "      <td>0.000000</td>\n",
              "      <td>0.000000</td>\n",
              "      <td>0.000000</td>\n",
              "      <td>0.000000</td>\n",
              "      <td>0.000000e+00</td>\n",
              "      <td>0.000000e+00</td>\n",
              "      <td>0.000000e+00</td>\n",
              "      <td>0.000000</td>\n",
              "      <td>0.000000e+00</td>\n",
              "      <td>0.000000</td>\n",
              "      <td>0.000000e+00</td>\n",
              "      <td>0.000000e+00</td>\n",
              "      <td>0.000000e+00</td>\n",
              "      <td>0.000000e+00</td>\n",
              "      <td>0.000000e+00</td>\n",
              "      <td>0.000000e+00</td>\n",
              "      <td>0.000000</td>\n",
              "      <td>0.999985</td>\n",
              "      <td>0.000000</td>\n",
              "      <td>0.000000e+00</td>\n",
              "      <td>0.000000</td>\n",
              "      <td>0.000000</td>\n",
              "      <td>0.000000e+00</td>\n",
              "      <td>0.000000</td>\n",
              "      <td>0.000000e+00</td>\n",
              "      <td>0.000000e+00</td>\n",
              "      <td>0.000000e+00</td>\n",
              "      <td>0.000000</td>\n",
              "      <td>0.000000</td>\n",
              "      <td>0.000000e+00</td>\n",
              "      <td>0.000000</td>\n",
              "      <td>0.000000e+00</td>\n",
              "      <td>0.000000e+00</td>\n",
              "      <td>0.000000e+00</td>\n",
              "      <td>0.000000e+00</td>\n",
              "      <td>7.120000e-06</td>\n",
              "      <td>video6633.webm</td>\n",
              "    </tr>\n",
              "    <tr>\n",
              "      <th>3</th>\n",
              "      <td>0.005959</td>\n",
              "      <td>0.004765</td>\n",
              "      <td>0.003757</td>\n",
              "      <td>5.787100e-04</td>\n",
              "      <td>7.344000e-05</td>\n",
              "      <td>0.000129</td>\n",
              "      <td>4.665300e-04</td>\n",
              "      <td>0.010266</td>\n",
              "      <td>3.028100e-04</td>\n",
              "      <td>2.196500e-04</td>\n",
              "      <td>2.521800e-04</td>\n",
              "      <td>2.963730e-03</td>\n",
              "      <td>0.000032</td>\n",
              "      <td>0.000592</td>\n",
              "      <td>3.260000e-05</td>\n",
              "      <td>1.466430e-03</td>\n",
              "      <td>2.430700e-04</td>\n",
              "      <td>0.000181</td>\n",
              "      <td>0.004019</td>\n",
              "      <td>2.390960e-03</td>\n",
              "      <td>1.206900e-04</td>\n",
              "      <td>0.008488</td>\n",
              "      <td>5.216200e-04</td>\n",
              "      <td>4.164600e-04</td>\n",
              "      <td>1.643420e-02</td>\n",
              "      <td>0.049686</td>\n",
              "      <td>1.470550e-03</td>\n",
              "      <td>5.432000e-05</td>\n",
              "      <td>0.001055</td>\n",
              "      <td>5.442770e-03</td>\n",
              "      <td>0.000173</td>\n",
              "      <td>0.024688</td>\n",
              "      <td>9.640700e-04</td>\n",
              "      <td>0.000880</td>\n",
              "      <td>1.140529e-02</td>\n",
              "      <td>4.522160e-03</td>\n",
              "      <td>8.594500e-04</td>\n",
              "      <td>6.573000e-04</td>\n",
              "      <td>6.942400e-04</td>\n",
              "      <td>1.823110e-03</td>\n",
              "      <td>...</td>\n",
              "      <td>0.000639</td>\n",
              "      <td>0.014109</td>\n",
              "      <td>0.000472</td>\n",
              "      <td>0.002461</td>\n",
              "      <td>0.004046</td>\n",
              "      <td>0.000905</td>\n",
              "      <td>0.000997</td>\n",
              "      <td>2.514660e-03</td>\n",
              "      <td>1.587440e-03</td>\n",
              "      <td>1.125030e-03</td>\n",
              "      <td>0.001008</td>\n",
              "      <td>2.133877e-02</td>\n",
              "      <td>0.000647</td>\n",
              "      <td>1.373010e-03</td>\n",
              "      <td>9.568000e-05</td>\n",
              "      <td>5.635083e-02</td>\n",
              "      <td>1.628000e-05</td>\n",
              "      <td>5.379910e-03</td>\n",
              "      <td>6.020020e-03</td>\n",
              "      <td>0.046499</td>\n",
              "      <td>0.023942</td>\n",
              "      <td>0.020658</td>\n",
              "      <td>3.349520e-03</td>\n",
              "      <td>0.002637</td>\n",
              "      <td>0.000094</td>\n",
              "      <td>1.170705e-02</td>\n",
              "      <td>0.000229</td>\n",
              "      <td>9.789210e-03</td>\n",
              "      <td>2.764390e-03</td>\n",
              "      <td>8.052350e-03</td>\n",
              "      <td>0.003992</td>\n",
              "      <td>0.004137</td>\n",
              "      <td>3.670390e-02</td>\n",
              "      <td>0.000767</td>\n",
              "      <td>3.692100e-04</td>\n",
              "      <td>1.251980e-02</td>\n",
              "      <td>8.422000e-05</td>\n",
              "      <td>1.159825e-02</td>\n",
              "      <td>1.155040e-03</td>\n",
              "      <td>video6645.webm</td>\n",
              "    </tr>\n",
              "    <tr>\n",
              "      <th>4</th>\n",
              "      <td>0.005782</td>\n",
              "      <td>0.000306</td>\n",
              "      <td>0.004011</td>\n",
              "      <td>1.007000e-05</td>\n",
              "      <td>1.034000e-05</td>\n",
              "      <td>0.000002</td>\n",
              "      <td>3.160000e-06</td>\n",
              "      <td>0.000003</td>\n",
              "      <td>1.984000e-05</td>\n",
              "      <td>5.750000e-06</td>\n",
              "      <td>6.642000e-05</td>\n",
              "      <td>6.690000e-06</td>\n",
              "      <td>0.000301</td>\n",
              "      <td>0.004799</td>\n",
              "      <td>2.800000e-07</td>\n",
              "      <td>1.669000e-05</td>\n",
              "      <td>2.670000e-06</td>\n",
              "      <td>0.000001</td>\n",
              "      <td>0.000011</td>\n",
              "      <td>6.526000e-05</td>\n",
              "      <td>3.100000e-07</td>\n",
              "      <td>0.000036</td>\n",
              "      <td>1.400000e-06</td>\n",
              "      <td>6.260000e-06</td>\n",
              "      <td>1.750103e-02</td>\n",
              "      <td>0.000019</td>\n",
              "      <td>1.190515e-02</td>\n",
              "      <td>4.450000e-06</td>\n",
              "      <td>0.000005</td>\n",
              "      <td>2.387000e-05</td>\n",
              "      <td>0.000007</td>\n",
              "      <td>0.000035</td>\n",
              "      <td>3.630000e-06</td>\n",
              "      <td>0.667420</td>\n",
              "      <td>3.482400e-04</td>\n",
              "      <td>1.900000e-07</td>\n",
              "      <td>1.121000e-05</td>\n",
              "      <td>6.830000e-06</td>\n",
              "      <td>1.837600e-04</td>\n",
              "      <td>1.250000e-06</td>\n",
              "      <td>...</td>\n",
              "      <td>0.005818</td>\n",
              "      <td>0.000535</td>\n",
              "      <td>0.001711</td>\n",
              "      <td>0.112263</td>\n",
              "      <td>0.000408</td>\n",
              "      <td>0.000035</td>\n",
              "      <td>0.000267</td>\n",
              "      <td>5.395000e-05</td>\n",
              "      <td>3.899000e-05</td>\n",
              "      <td>3.619000e-05</td>\n",
              "      <td>0.000321</td>\n",
              "      <td>4.550900e-04</td>\n",
              "      <td>0.000002</td>\n",
              "      <td>6.200000e-06</td>\n",
              "      <td>7.510000e-06</td>\n",
              "      <td>7.971920e-03</td>\n",
              "      <td>7.000000e-08</td>\n",
              "      <td>1.873000e-05</td>\n",
              "      <td>1.511100e-04</td>\n",
              "      <td>0.000011</td>\n",
              "      <td>0.000398</td>\n",
              "      <td>0.000001</td>\n",
              "      <td>4.090000e-06</td>\n",
              "      <td>0.000004</td>\n",
              "      <td>0.000005</td>\n",
              "      <td>2.080000e-06</td>\n",
              "      <td>0.000001</td>\n",
              "      <td>1.651800e-04</td>\n",
              "      <td>2.738000e-05</td>\n",
              "      <td>2.106000e-05</td>\n",
              "      <td>0.000002</td>\n",
              "      <td>0.000004</td>\n",
              "      <td>6.818350e-03</td>\n",
              "      <td>0.000005</td>\n",
              "      <td>5.000000e-08</td>\n",
              "      <td>2.088000e-05</td>\n",
              "      <td>1.271750e-03</td>\n",
              "      <td>4.862200e-04</td>\n",
              "      <td>1.965000e-05</td>\n",
              "      <td>video6643.webm</td>\n",
              "    </tr>\n",
              "  </tbody>\n",
              "</table>\n",
              "<p>5 rows × 102 columns</p>\n",
              "</div>"
            ],
            "text/plain": [
              "          0         1         2  ...            99           100           video\n",
              "0  0.010858  0.010386  0.000000  ...  2.600000e-06  8.000000e-08  video6632.webm\n",
              "1  0.000200  0.000065  0.993807  ...  8.300000e-07  1.060000e-04  video6634.webm\n",
              "2  0.000000  0.000000  0.000000  ...  0.000000e+00  7.120000e-06  video6633.webm\n",
              "3  0.005959  0.004765  0.003757  ...  1.159825e-02  1.155040e-03  video6645.webm\n",
              "4  0.005782  0.000306  0.004011  ...  4.862200e-04  1.965000e-05  video6643.webm\n",
              "\n",
              "[5 rows x 102 columns]"
            ]
          },
          "metadata": {
            "tags": []
          },
          "execution_count": 13
        }
      ]
    },
    {
      "cell_type": "markdown",
      "metadata": {
        "id": "mjyZjBclw5n5"
      },
      "source": [
        "*Merging cleaned ground-truth.csv and extracted C3D features dataframe considering video attribute as a primary key*"
      ]
    },
    {
      "cell_type": "code",
      "metadata": {
        "colab": {
          "base_uri": "https://localhost:8080/",
          "height": 345
        },
        "id": "azFKqKH9wUrv",
        "outputId": "aaab956e-bb97-49de-e24f-4c8992a2f6f9"
      },
      "source": [
        "c3d_devset_df = pd.merge(Ground_Truth_train, c3d_devset, on='video')\n",
        "c3d_devset_df.head()"
      ],
      "execution_count": null,
      "outputs": [
        {
          "output_type": "execute_result",
          "data": {
            "text/html": [
              "<div>\n",
              "<style scoped>\n",
              "    .dataframe tbody tr th:only-of-type {\n",
              "        vertical-align: middle;\n",
              "    }\n",
              "\n",
              "    .dataframe tbody tr th {\n",
              "        vertical-align: top;\n",
              "    }\n",
              "\n",
              "    .dataframe thead th {\n",
              "        text-align: right;\n",
              "    }\n",
              "</style>\n",
              "<table border=\"1\" class=\"dataframe\">\n",
              "  <thead>\n",
              "    <tr style=\"text-align: right;\">\n",
              "      <th></th>\n",
              "      <th>video</th>\n",
              "      <th>short-term_memorability</th>\n",
              "      <th>long-term_memorability</th>\n",
              "      <th>0</th>\n",
              "      <th>1</th>\n",
              "      <th>2</th>\n",
              "      <th>3</th>\n",
              "      <th>4</th>\n",
              "      <th>5</th>\n",
              "      <th>6</th>\n",
              "      <th>7</th>\n",
              "      <th>8</th>\n",
              "      <th>9</th>\n",
              "      <th>10</th>\n",
              "      <th>11</th>\n",
              "      <th>12</th>\n",
              "      <th>13</th>\n",
              "      <th>14</th>\n",
              "      <th>15</th>\n",
              "      <th>16</th>\n",
              "      <th>17</th>\n",
              "      <th>18</th>\n",
              "      <th>19</th>\n",
              "      <th>20</th>\n",
              "      <th>21</th>\n",
              "      <th>22</th>\n",
              "      <th>23</th>\n",
              "      <th>24</th>\n",
              "      <th>25</th>\n",
              "      <th>26</th>\n",
              "      <th>27</th>\n",
              "      <th>28</th>\n",
              "      <th>29</th>\n",
              "      <th>30</th>\n",
              "      <th>31</th>\n",
              "      <th>32</th>\n",
              "      <th>33</th>\n",
              "      <th>34</th>\n",
              "      <th>35</th>\n",
              "      <th>36</th>\n",
              "      <th>...</th>\n",
              "      <th>61</th>\n",
              "      <th>62</th>\n",
              "      <th>63</th>\n",
              "      <th>64</th>\n",
              "      <th>65</th>\n",
              "      <th>66</th>\n",
              "      <th>67</th>\n",
              "      <th>68</th>\n",
              "      <th>69</th>\n",
              "      <th>70</th>\n",
              "      <th>71</th>\n",
              "      <th>72</th>\n",
              "      <th>73</th>\n",
              "      <th>74</th>\n",
              "      <th>75</th>\n",
              "      <th>76</th>\n",
              "      <th>77</th>\n",
              "      <th>78</th>\n",
              "      <th>79</th>\n",
              "      <th>80</th>\n",
              "      <th>81</th>\n",
              "      <th>82</th>\n",
              "      <th>83</th>\n",
              "      <th>84</th>\n",
              "      <th>85</th>\n",
              "      <th>86</th>\n",
              "      <th>87</th>\n",
              "      <th>88</th>\n",
              "      <th>89</th>\n",
              "      <th>90</th>\n",
              "      <th>91</th>\n",
              "      <th>92</th>\n",
              "      <th>93</th>\n",
              "      <th>94</th>\n",
              "      <th>95</th>\n",
              "      <th>96</th>\n",
              "      <th>97</th>\n",
              "      <th>98</th>\n",
              "      <th>99</th>\n",
              "      <th>100</th>\n",
              "    </tr>\n",
              "  </thead>\n",
              "  <tbody>\n",
              "    <tr>\n",
              "      <th>0</th>\n",
              "      <td>video3.webm</td>\n",
              "      <td>0.924</td>\n",
              "      <td>0.846</td>\n",
              "      <td>0.020249</td>\n",
              "      <td>0.001578</td>\n",
              "      <td>0.000826</td>\n",
              "      <td>0.000945</td>\n",
              "      <td>0.000063</td>\n",
              "      <td>0.000003</td>\n",
              "      <td>0.001162</td>\n",
              "      <td>0.000097</td>\n",
              "      <td>0.000022</td>\n",
              "      <td>0.000010</td>\n",
              "      <td>0.000337</td>\n",
              "      <td>0.000636</td>\n",
              "      <td>1.111700e-04</td>\n",
              "      <td>0.001008</td>\n",
              "      <td>0.000004</td>\n",
              "      <td>0.000631</td>\n",
              "      <td>3.905000e-05</td>\n",
              "      <td>0.000041</td>\n",
              "      <td>0.000091</td>\n",
              "      <td>0.000303</td>\n",
              "      <td>1.541000e-05</td>\n",
              "      <td>0.000032</td>\n",
              "      <td>5.221000e-05</td>\n",
              "      <td>0.000062</td>\n",
              "      <td>0.017465</td>\n",
              "      <td>0.000666</td>\n",
              "      <td>0.000065</td>\n",
              "      <td>0.000054</td>\n",
              "      <td>0.000273</td>\n",
              "      <td>0.001386</td>\n",
              "      <td>0.000003</td>\n",
              "      <td>0.001356</td>\n",
              "      <td>0.000517</td>\n",
              "      <td>2.426120e-03</td>\n",
              "      <td>0.002719</td>\n",
              "      <td>2.770000e-06</td>\n",
              "      <td>0.001557</td>\n",
              "      <td>...</td>\n",
              "      <td>0.096647</td>\n",
              "      <td>0.004458</td>\n",
              "      <td>0.011840</td>\n",
              "      <td>0.000287</td>\n",
              "      <td>0.002195</td>\n",
              "      <td>0.002792</td>\n",
              "      <td>0.000018</td>\n",
              "      <td>0.003365</td>\n",
              "      <td>0.000061</td>\n",
              "      <td>0.000573</td>\n",
              "      <td>0.000273</td>\n",
              "      <td>0.000034</td>\n",
              "      <td>0.006737</td>\n",
              "      <td>0.000021</td>\n",
              "      <td>0.000098</td>\n",
              "      <td>2.502000e-05</td>\n",
              "      <td>0.005768</td>\n",
              "      <td>2.990000e-06</td>\n",
              "      <td>0.000085</td>\n",
              "      <td>0.000607</td>\n",
              "      <td>0.000461</td>\n",
              "      <td>0.001189</td>\n",
              "      <td>0.000270</td>\n",
              "      <td>0.000127</td>\n",
              "      <td>0.000106</td>\n",
              "      <td>0.000154</td>\n",
              "      <td>0.000567</td>\n",
              "      <td>0.000020</td>\n",
              "      <td>0.000894</td>\n",
              "      <td>0.001079</td>\n",
              "      <td>0.001042</td>\n",
              "      <td>0.000161</td>\n",
              "      <td>0.000257</td>\n",
              "      <td>0.046617</td>\n",
              "      <td>0.000156</td>\n",
              "      <td>0.000006</td>\n",
              "      <td>0.000537</td>\n",
              "      <td>0.000339</td>\n",
              "      <td>0.008437</td>\n",
              "      <td>0.000470</td>\n",
              "    </tr>\n",
              "    <tr>\n",
              "      <th>1</th>\n",
              "      <td>video4.webm</td>\n",
              "      <td>0.923</td>\n",
              "      <td>0.667</td>\n",
              "      <td>0.000118</td>\n",
              "      <td>0.000891</td>\n",
              "      <td>0.000188</td>\n",
              "      <td>0.000045</td>\n",
              "      <td>0.000063</td>\n",
              "      <td>0.000002</td>\n",
              "      <td>0.000641</td>\n",
              "      <td>0.000011</td>\n",
              "      <td>0.000017</td>\n",
              "      <td>0.000014</td>\n",
              "      <td>0.000336</td>\n",
              "      <td>0.004081</td>\n",
              "      <td>5.900000e-07</td>\n",
              "      <td>0.000411</td>\n",
              "      <td>0.000003</td>\n",
              "      <td>0.000243</td>\n",
              "      <td>6.600000e-07</td>\n",
              "      <td>0.000002</td>\n",
              "      <td>0.000535</td>\n",
              "      <td>0.000278</td>\n",
              "      <td>4.804000e-05</td>\n",
              "      <td>0.001153</td>\n",
              "      <td>2.792000e-05</td>\n",
              "      <td>0.000040</td>\n",
              "      <td>0.022276</td>\n",
              "      <td>0.004529</td>\n",
              "      <td>0.000020</td>\n",
              "      <td>0.000029</td>\n",
              "      <td>0.000045</td>\n",
              "      <td>0.060436</td>\n",
              "      <td>0.000039</td>\n",
              "      <td>0.027208</td>\n",
              "      <td>0.000074</td>\n",
              "      <td>2.719000e-05</td>\n",
              "      <td>0.000623</td>\n",
              "      <td>2.609600e-04</td>\n",
              "      <td>0.000183</td>\n",
              "      <td>...</td>\n",
              "      <td>0.000372</td>\n",
              "      <td>0.000154</td>\n",
              "      <td>0.000148</td>\n",
              "      <td>0.000086</td>\n",
              "      <td>0.000267</td>\n",
              "      <td>0.000014</td>\n",
              "      <td>0.001430</td>\n",
              "      <td>0.004417</td>\n",
              "      <td>0.000064</td>\n",
              "      <td>0.000105</td>\n",
              "      <td>0.003129</td>\n",
              "      <td>0.000055</td>\n",
              "      <td>0.000061</td>\n",
              "      <td>0.000025</td>\n",
              "      <td>0.004283</td>\n",
              "      <td>1.032000e-05</td>\n",
              "      <td>0.000062</td>\n",
              "      <td>2.903000e-05</td>\n",
              "      <td>0.000374</td>\n",
              "      <td>0.000139</td>\n",
              "      <td>0.741702</td>\n",
              "      <td>0.007178</td>\n",
              "      <td>0.000346</td>\n",
              "      <td>0.000104</td>\n",
              "      <td>0.000181</td>\n",
              "      <td>0.000052</td>\n",
              "      <td>0.004839</td>\n",
              "      <td>0.000078</td>\n",
              "      <td>0.042325</td>\n",
              "      <td>0.000623</td>\n",
              "      <td>0.000582</td>\n",
              "      <td>0.000393</td>\n",
              "      <td>0.000864</td>\n",
              "      <td>0.000947</td>\n",
              "      <td>0.000136</td>\n",
              "      <td>0.000007</td>\n",
              "      <td>0.000360</td>\n",
              "      <td>0.000159</td>\n",
              "      <td>0.001025</td>\n",
              "      <td>0.000020</td>\n",
              "    </tr>\n",
              "    <tr>\n",
              "      <th>2</th>\n",
              "      <td>video6.webm</td>\n",
              "      <td>0.863</td>\n",
              "      <td>0.700</td>\n",
              "      <td>0.011765</td>\n",
              "      <td>0.000746</td>\n",
              "      <td>0.000784</td>\n",
              "      <td>0.000013</td>\n",
              "      <td>0.000007</td>\n",
              "      <td>0.000028</td>\n",
              "      <td>0.000041</td>\n",
              "      <td>0.000014</td>\n",
              "      <td>0.000041</td>\n",
              "      <td>0.000083</td>\n",
              "      <td>0.000048</td>\n",
              "      <td>0.000080</td>\n",
              "      <td>1.066610e-03</td>\n",
              "      <td>0.000958</td>\n",
              "      <td>0.000011</td>\n",
              "      <td>0.000070</td>\n",
              "      <td>2.992000e-05</td>\n",
              "      <td>0.000038</td>\n",
              "      <td>0.000031</td>\n",
              "      <td>0.000008</td>\n",
              "      <td>9.700000e-07</td>\n",
              "      <td>0.002905</td>\n",
              "      <td>1.849000e-05</td>\n",
              "      <td>0.000013</td>\n",
              "      <td>0.000192</td>\n",
              "      <td>0.000050</td>\n",
              "      <td>0.000532</td>\n",
              "      <td>0.000027</td>\n",
              "      <td>0.000051</td>\n",
              "      <td>0.000010</td>\n",
              "      <td>0.000005</td>\n",
              "      <td>0.000029</td>\n",
              "      <td>0.000033</td>\n",
              "      <td>3.260172e-02</td>\n",
              "      <td>0.000034</td>\n",
              "      <td>7.100000e-07</td>\n",
              "      <td>0.000006</td>\n",
              "      <td>...</td>\n",
              "      <td>0.876291</td>\n",
              "      <td>0.005509</td>\n",
              "      <td>0.008852</td>\n",
              "      <td>0.000399</td>\n",
              "      <td>0.000069</td>\n",
              "      <td>0.013166</td>\n",
              "      <td>0.000015</td>\n",
              "      <td>0.000044</td>\n",
              "      <td>0.000520</td>\n",
              "      <td>0.000046</td>\n",
              "      <td>0.000007</td>\n",
              "      <td>0.000024</td>\n",
              "      <td>0.010491</td>\n",
              "      <td>0.000475</td>\n",
              "      <td>0.000023</td>\n",
              "      <td>5.590000e-06</td>\n",
              "      <td>0.005554</td>\n",
              "      <td>2.500000e-07</td>\n",
              "      <td>0.000057</td>\n",
              "      <td>0.000328</td>\n",
              "      <td>0.000149</td>\n",
              "      <td>0.001844</td>\n",
              "      <td>0.000008</td>\n",
              "      <td>0.000103</td>\n",
              "      <td>0.000030</td>\n",
              "      <td>0.000005</td>\n",
              "      <td>0.000179</td>\n",
              "      <td>0.000001</td>\n",
              "      <td>0.000006</td>\n",
              "      <td>0.000215</td>\n",
              "      <td>0.000224</td>\n",
              "      <td>0.000003</td>\n",
              "      <td>0.000031</td>\n",
              "      <td>0.002538</td>\n",
              "      <td>0.000104</td>\n",
              "      <td>0.000005</td>\n",
              "      <td>0.000064</td>\n",
              "      <td>0.005380</td>\n",
              "      <td>0.001027</td>\n",
              "      <td>0.001384</td>\n",
              "    </tr>\n",
              "    <tr>\n",
              "      <th>3</th>\n",
              "      <td>video8.webm</td>\n",
              "      <td>0.922</td>\n",
              "      <td>0.818</td>\n",
              "      <td>0.000223</td>\n",
              "      <td>0.000165</td>\n",
              "      <td>0.000007</td>\n",
              "      <td>0.000016</td>\n",
              "      <td>0.000005</td>\n",
              "      <td>0.000014</td>\n",
              "      <td>0.000154</td>\n",
              "      <td>0.000008</td>\n",
              "      <td>0.000004</td>\n",
              "      <td>0.000009</td>\n",
              "      <td>0.001057</td>\n",
              "      <td>0.000126</td>\n",
              "      <td>3.404000e-05</td>\n",
              "      <td>0.000004</td>\n",
              "      <td>0.000006</td>\n",
              "      <td>0.000012</td>\n",
              "      <td>1.940000e-06</td>\n",
              "      <td>0.000003</td>\n",
              "      <td>0.001759</td>\n",
              "      <td>0.000005</td>\n",
              "      <td>8.330000e-06</td>\n",
              "      <td>0.000027</td>\n",
              "      <td>3.200000e-07</td>\n",
              "      <td>0.000010</td>\n",
              "      <td>0.000137</td>\n",
              "      <td>0.000006</td>\n",
              "      <td>0.000005</td>\n",
              "      <td>0.000008</td>\n",
              "      <td>0.000008</td>\n",
              "      <td>0.000611</td>\n",
              "      <td>0.000166</td>\n",
              "      <td>0.583214</td>\n",
              "      <td>0.000004</td>\n",
              "      <td>2.100000e-07</td>\n",
              "      <td>0.000002</td>\n",
              "      <td>2.136000e-05</td>\n",
              "      <td>0.000003</td>\n",
              "      <td>...</td>\n",
              "      <td>0.000009</td>\n",
              "      <td>0.000007</td>\n",
              "      <td>0.000005</td>\n",
              "      <td>0.000539</td>\n",
              "      <td>0.000035</td>\n",
              "      <td>0.000391</td>\n",
              "      <td>0.000021</td>\n",
              "      <td>0.000043</td>\n",
              "      <td>0.000010</td>\n",
              "      <td>0.000028</td>\n",
              "      <td>0.012471</td>\n",
              "      <td>0.006671</td>\n",
              "      <td>0.001187</td>\n",
              "      <td>0.000002</td>\n",
              "      <td>0.119488</td>\n",
              "      <td>5.600000e-07</td>\n",
              "      <td>0.000004</td>\n",
              "      <td>4.250000e-06</td>\n",
              "      <td>0.000040</td>\n",
              "      <td>0.000148</td>\n",
              "      <td>0.103989</td>\n",
              "      <td>0.058989</td>\n",
              "      <td>0.000002</td>\n",
              "      <td>0.000069</td>\n",
              "      <td>0.000004</td>\n",
              "      <td>0.000130</td>\n",
              "      <td>0.001182</td>\n",
              "      <td>0.000003</td>\n",
              "      <td>0.000006</td>\n",
              "      <td>0.000044</td>\n",
              "      <td>0.000046</td>\n",
              "      <td>0.000009</td>\n",
              "      <td>0.000023</td>\n",
              "      <td>0.000053</td>\n",
              "      <td>0.000048</td>\n",
              "      <td>0.000019</td>\n",
              "      <td>0.000001</td>\n",
              "      <td>0.000004</td>\n",
              "      <td>0.000380</td>\n",
              "      <td>0.000029</td>\n",
              "    </tr>\n",
              "    <tr>\n",
              "      <th>4</th>\n",
              "      <td>video10.webm</td>\n",
              "      <td>0.950</td>\n",
              "      <td>0.900</td>\n",
              "      <td>0.000090</td>\n",
              "      <td>0.000615</td>\n",
              "      <td>0.003436</td>\n",
              "      <td>0.001281</td>\n",
              "      <td>0.003551</td>\n",
              "      <td>0.000313</td>\n",
              "      <td>0.000042</td>\n",
              "      <td>0.000018</td>\n",
              "      <td>0.000157</td>\n",
              "      <td>0.000117</td>\n",
              "      <td>0.000256</td>\n",
              "      <td>0.000116</td>\n",
              "      <td>3.234800e-04</td>\n",
              "      <td>0.009888</td>\n",
              "      <td>0.000001</td>\n",
              "      <td>0.000576</td>\n",
              "      <td>3.004000e-05</td>\n",
              "      <td>0.000008</td>\n",
              "      <td>0.002029</td>\n",
              "      <td>0.000016</td>\n",
              "      <td>7.690000e-06</td>\n",
              "      <td>0.007324</td>\n",
              "      <td>2.863000e-05</td>\n",
              "      <td>0.000015</td>\n",
              "      <td>0.035220</td>\n",
              "      <td>0.000153</td>\n",
              "      <td>0.001053</td>\n",
              "      <td>0.000031</td>\n",
              "      <td>0.000026</td>\n",
              "      <td>0.001376</td>\n",
              "      <td>0.000215</td>\n",
              "      <td>0.001759</td>\n",
              "      <td>0.000013</td>\n",
              "      <td>1.698540e-03</td>\n",
              "      <td>0.000248</td>\n",
              "      <td>1.754577e-02</td>\n",
              "      <td>0.000260</td>\n",
              "      <td>...</td>\n",
              "      <td>0.000236</td>\n",
              "      <td>0.000046</td>\n",
              "      <td>0.000027</td>\n",
              "      <td>0.000203</td>\n",
              "      <td>0.010644</td>\n",
              "      <td>0.000252</td>\n",
              "      <td>0.000349</td>\n",
              "      <td>0.001776</td>\n",
              "      <td>0.000006</td>\n",
              "      <td>0.001443</td>\n",
              "      <td>0.000146</td>\n",
              "      <td>0.019003</td>\n",
              "      <td>0.000584</td>\n",
              "      <td>0.000027</td>\n",
              "      <td>0.000692</td>\n",
              "      <td>5.650000e-06</td>\n",
              "      <td>0.000403</td>\n",
              "      <td>2.894700e-04</td>\n",
              "      <td>0.000197</td>\n",
              "      <td>0.001254</td>\n",
              "      <td>0.005257</td>\n",
              "      <td>0.045808</td>\n",
              "      <td>0.000008</td>\n",
              "      <td>0.000296</td>\n",
              "      <td>0.003893</td>\n",
              "      <td>0.000318</td>\n",
              "      <td>0.000048</td>\n",
              "      <td>0.000018</td>\n",
              "      <td>0.000264</td>\n",
              "      <td>0.000026</td>\n",
              "      <td>0.000037</td>\n",
              "      <td>0.000690</td>\n",
              "      <td>0.000171</td>\n",
              "      <td>0.000231</td>\n",
              "      <td>0.000637</td>\n",
              "      <td>0.000040</td>\n",
              "      <td>0.000061</td>\n",
              "      <td>0.000075</td>\n",
              "      <td>0.000002</td>\n",
              "      <td>0.001323</td>\n",
              "    </tr>\n",
              "  </tbody>\n",
              "</table>\n",
              "<p>5 rows × 104 columns</p>\n",
              "</div>"
            ],
            "text/plain": [
              "          video  short-term_memorability  ...        99       100\n",
              "0   video3.webm                    0.924  ...  0.008437  0.000470\n",
              "1   video4.webm                    0.923  ...  0.001025  0.000020\n",
              "2   video6.webm                    0.863  ...  0.001027  0.001384\n",
              "3   video8.webm                    0.922  ...  0.000380  0.000029\n",
              "4  video10.webm                    0.950  ...  0.000002  0.001323\n",
              "\n",
              "[5 rows x 104 columns]"
            ]
          },
          "metadata": {
            "tags": []
          },
          "execution_count": 14
        }
      ]
    },
    {
      "cell_type": "markdown",
      "metadata": {
        "id": "dM-9ttkMxqLF"
      },
      "source": [
        "*Locking the extracted C3D features on the dataframe using iloc function*"
      ]
    },
    {
      "cell_type": "code",
      "metadata": {
        "colab": {
          "base_uri": "https://localhost:8080/"
        },
        "id": "QAn2oS5bwUvT",
        "outputId": "bc1add2a-b2b9-412c-c140-284970c1b333"
      },
      "source": [
        "c3d_devset_features = c3d_devset_df.iloc[:,3:104].values #\n",
        "c3d_devset_features.shape #checking the size of the locked area in the dataframe"
      ],
      "execution_count": null,
      "outputs": [
        {
          "output_type": "execute_result",
          "data": {
            "text/plain": [
              "(6000, 101)"
            ]
          },
          "metadata": {
            "tags": []
          },
          "execution_count": 15
        }
      ]
    },
    {
      "cell_type": "markdown",
      "metadata": {
        "id": "9mcuBEOKyEa7"
      },
      "source": [
        "*C3D features from the training set are now ready and they can be used directly into model* "
      ]
    },
    {
      "cell_type": "code",
      "metadata": {
        "id": "wUnyQVRGyC87"
      },
      "source": [
        "def Get_score(Y_pred,Y_true):\n",
        "    '''Calculate the Spearmann\"s correlation coefficient'''\n",
        "    Y_pred = np.squeeze(Y_pred)\n",
        "    Y_true = np.squeeze(Y_true)\n",
        "    if Y_pred.shape != Y_true.shape:\n",
        "        print('Input shapes don\\'t match!')\n",
        "    else:\n",
        "        if len(Y_pred.shape) == 1:\n",
        "            Res = pd.DataFrame({'Y_true':Y_true,'Y_pred':Y_pred})\n",
        "            score_mat = Res[['Y_true','Y_pred']].corr(method='spearman',min_periods=1)\n",
        "            print('The Spearman\\'s correlation coefficient is: %.3f' % score_mat.iloc[1][0])\n",
        "        else:\n",
        "            for ii in range(Y_pred.shape[1]):\n",
        "                Get_score(Y_pred[:,ii],Y_true[:,ii])"
      ],
      "execution_count": null,
      "outputs": []
    },
    {
      "cell_type": "markdown",
      "metadata": {
        "id": "W9CsOWS7ymXM"
      },
      "source": [
        "*Assigning the values to X and Y variables *"
      ]
    },
    {
      "cell_type": "code",
      "metadata": {
        "id": "Sw7qDLb2ycKW"
      },
      "source": [
        "X = c3d_devset_features\n",
        "y = Ground_Truth_train.iloc[:, 1:3].values"
      ],
      "execution_count": null,
      "outputs": []
    },
    {
      "cell_type": "markdown",
      "metadata": {
        "id": "nr-9RJXJzG1c"
      },
      "source": [
        "*Splitting the data into train set and test set*"
      ]
    },
    {
      "cell_type": "code",
      "metadata": {
        "id": "vBvK8YL0ycN6"
      },
      "source": [
        "from sklearn.model_selection import train_test_split\n",
        "X_train, X_test, y_train, y_test = train_test_split(X, y, test_size = 0.20)"
      ],
      "execution_count": null,
      "outputs": []
    },
    {
      "cell_type": "markdown",
      "metadata": {
        "id": "thPxdIimzsvy"
      },
      "source": [
        "*Fitting the C3D features into Decision Tree Model*"
      ]
    },
    {
      "cell_type": "code",
      "metadata": {
        "colab": {
          "base_uri": "https://localhost:8080/"
        },
        "id": "U9NdHeVjzYrp",
        "outputId": "baefae91-0950-49a6-b482-6588b256e6f9"
      },
      "source": [
        "from sklearn.tree import DecisionTreeRegressor\n",
        "DTregressor = DecisionTreeRegressor()\n",
        "DTregressor.fit(X_train, y_train)"
      ],
      "execution_count": null,
      "outputs": [
        {
          "output_type": "execute_result",
          "data": {
            "text/plain": [
              "DecisionTreeRegressor(ccp_alpha=0.0, criterion='mse', max_depth=None,\n",
              "                      max_features=None, max_leaf_nodes=None,\n",
              "                      min_impurity_decrease=0.0, min_impurity_split=None,\n",
              "                      min_samples_leaf=1, min_samples_split=2,\n",
              "                      min_weight_fraction_leaf=0.0, presort='deprecated',\n",
              "                      random_state=None, splitter='best')"
            ]
          },
          "metadata": {
            "tags": []
          },
          "execution_count": 21
        }
      ]
    },
    {
      "cell_type": "code",
      "metadata": {
        "colab": {
          "base_uri": "https://localhost:8080/"
        },
        "id": "O_X7GGpyzYvG",
        "outputId": "3c04b808-eba1-4fc3-8146-748df1476d13"
      },
      "source": [
        "y_pred = DTregressor.predict(X_test)\n",
        "Get_score(y_pred, y_test)"
      ],
      "execution_count": null,
      "outputs": [
        {
          "output_type": "stream",
          "text": [
            "The Spearman's correlation coefficient is: 0.087\n",
            "The Spearman's correlation coefficient is: 0.021\n"
          ],
          "name": "stdout"
        }
      ]
    },
    {
      "cell_type": "markdown",
      "metadata": {
        "id": "gUiH3KTuzflN"
      },
      "source": [
        "*Fitting the C3D features into Linear Regression Model*"
      ]
    },
    {
      "cell_type": "code",
      "metadata": {
        "colab": {
          "base_uri": "https://localhost:8080/"
        },
        "id": "YmeAbzOCyDAH",
        "outputId": "719fd3b8-c84f-4a2a-d91a-8eba20c29a0a"
      },
      "source": [
        "from sklearn.linear_model import LinearRegression\n",
        "LMregressor = LinearRegression()\n",
        "LMregressor.fit(X_train, y_train)"
      ],
      "execution_count": null,
      "outputs": [
        {
          "output_type": "execute_result",
          "data": {
            "text/plain": [
              "LinearRegression(copy_X=True, fit_intercept=True, n_jobs=None, normalize=False)"
            ]
          },
          "metadata": {
            "tags": []
          },
          "execution_count": 19
        }
      ]
    },
    {
      "cell_type": "code",
      "metadata": {
        "colab": {
          "base_uri": "https://localhost:8080/"
        },
        "id": "orYohlsuzYpW",
        "outputId": "30bf55f4-f892-4cf5-970e-b8e5766ef340"
      },
      "source": [
        "y_pred = LMregressor.predict(X_test)\n",
        "Get_score(y_pred, y_test)"
      ],
      "execution_count": null,
      "outputs": [
        {
          "output_type": "stream",
          "text": [
            "The Spearman's correlation coefficient is: 0.305\n",
            "The Spearman's correlation coefficient is: 0.150\n"
          ],
          "name": "stdout"
        }
      ]
    },
    {
      "cell_type": "markdown",
      "metadata": {
        "id": "1YWdGaWk_elL"
      },
      "source": [
        "*Fitting the C3D features into KNN Model*"
      ]
    },
    {
      "cell_type": "code",
      "metadata": {
        "colab": {
          "base_uri": "https://localhost:8080/"
        },
        "id": "-zQe2VEn9fli",
        "outputId": "8a6d384a-51cb-46b6-8067-cbfaacdd31ea"
      },
      "source": [
        "from sklearn.neighbors import KNeighborsRegressor\n",
        "knnRegressor = KNeighborsRegressor(n_neighbors = 100)\n",
        "knnRegressor.fit(X_train, y_train)\n",
        "y_pred = knnRegressor.predict(X_test)\n",
        "Get_score(y_pred, y_test)"
      ],
      "execution_count": null,
      "outputs": [
        {
          "output_type": "stream",
          "text": [
            "The Spearman's correlation coefficient is: 0.303\n",
            "The Spearman's correlation coefficient is: 0.133\n"
          ],
          "name": "stdout"
        }
      ]
    },
    {
      "cell_type": "markdown",
      "metadata": {
        "id": "CZ5touUp0Mmb"
      },
      "source": [
        "*Fitting the C3D features into Random Forest Model*"
      ]
    },
    {
      "cell_type": "code",
      "metadata": {
        "colab": {
          "base_uri": "https://localhost:8080/"
        },
        "id": "cBHC2ZLZ0Lop",
        "outputId": "c700fdeb-be8e-451c-b97e-9ff54eeb7a8e"
      },
      "source": [
        "from sklearn.ensemble import RandomForestRegressor\n",
        "RFregressor = RandomForestRegressor(n_estimators=500)\n",
        "RFregressor.fit(X_train, y_train)"
      ],
      "execution_count": null,
      "outputs": [
        {
          "output_type": "execute_result",
          "data": {
            "text/plain": [
              "RandomForestRegressor(bootstrap=True, ccp_alpha=0.0, criterion='mse',\n",
              "                      max_depth=None, max_features='auto', max_leaf_nodes=None,\n",
              "                      max_samples=None, min_impurity_decrease=0.0,\n",
              "                      min_impurity_split=None, min_samples_leaf=1,\n",
              "                      min_samples_split=2, min_weight_fraction_leaf=0.0,\n",
              "                      n_estimators=500, n_jobs=None, oob_score=False,\n",
              "                      random_state=None, verbose=0, warm_start=False)"
            ]
          },
          "metadata": {
            "tags": []
          },
          "execution_count": 23
        }
      ]
    },
    {
      "cell_type": "code",
      "metadata": {
        "colab": {
          "base_uri": "https://localhost:8080/"
        },
        "id": "W7GBab810Lqp",
        "outputId": "c0237cd7-78a3-492a-b411-b848ef65bbb3"
      },
      "source": [
        "y_pred = RFregressor.predict(X_test)\n",
        "Get_score(y_pred, y_test)"
      ],
      "execution_count": null,
      "outputs": [
        {
          "output_type": "stream",
          "text": [
            "The Spearman's correlation coefficient is: 0.338\n",
            "The Spearman's correlation coefficient is: 0.159\n"
          ],
          "name": "stdout"
        }
      ]
    },
    {
      "cell_type": "markdown",
      "metadata": {
        "id": "RT7XwEn7XQC7"
      },
      "source": [
        "*Random Forest is giving the best values when it's estimators are 500.*"
      ]
    },
    {
      "cell_type": "markdown",
      "metadata": {
        "id": "KOIhuxLB10Di"
      },
      "source": [
        "Storing the Predicted and Actual scores of long and short term "
      ]
    },
    {
      "cell_type": "code",
      "metadata": {
        "id": "aLfhB0dK0LuI"
      },
      "source": [
        "#Creatign a dataframe to store the predicted values of short and long term\n",
        "pred = pd.DataFrame(np.array(y_pred).reshape(1200,2), columns = (\"Predicted_Short_term\",\"Predicted_Long_term\"))"
      ],
      "execution_count": null,
      "outputs": []
    },
    {
      "cell_type": "code",
      "metadata": {
        "id": "cdtqqtDd1yd3"
      },
      "source": [
        "#Creatign a dataframe to store the actual test set values of short and long term\n",
        "actual = pd.DataFrame(np.array(y_test).reshape(1200,2), columns = (\"Actual_Short_term\",\"Actual_Long_term\"))"
      ],
      "execution_count": null,
      "outputs": []
    },
    {
      "cell_type": "markdown",
      "metadata": {
        "id": "jFWvCP5azbGX"
      },
      "source": [
        "### **HMP_DEVSET**"
      ]
    },
    {
      "cell_type": "markdown",
      "metadata": {
        "id": "EgSQ7w-EHM-z"
      },
      "source": [
        "*Defining a method to read the HMP features from the given .txt files*"
      ]
    },
    {
      "cell_type": "code",
      "metadata": {
        "id": "ogxRaYEpzZnQ"
      },
      "source": [
        "def read_HMP(fname):\n",
        "    \"\"\"Scan HMP(Histogram of Motion Patterns) features from file\"\"\"\n",
        "    with open(fname) as f:\n",
        "        for line in f:\n",
        "            pairs=line.split()\n",
        "            HMP_temp = { int(p.split(':')[0]) : float(p.split(':')[1]) for p in pairs}\n",
        "    # there are 6075 bins, fill zeros\n",
        "    HMP = np.zeros(6075)\n",
        "    for idx in HMP_temp.keys():\n",
        "        HMP[idx-1] = HMP_temp[idx]            \n",
        "    return HMP"
      ],
      "execution_count": null,
      "outputs": []
    },
    {
      "cell_type": "markdown",
      "metadata": {
        "id": "aMjqyt1_HSKV"
      },
      "source": [
        "*Calling a method to get the HMP features and creating the array lists using loop to store them.*"
      ]
    },
    {
      "cell_type": "code",
      "metadata": {
        "id": "KvYXn90JzZpq"
      },
      "source": [
        "my_numlist= [] # Creating a list to store the C3D features\n",
        "my_namelist = [] #Creating a list to store the videos names\n",
        "path = 'Dev-set/HMP/*.txt'\n",
        "for filename in glob.glob('Dev-set/HMP/*.txt'):\n",
        "    s= read_HMP(filename)\n",
        "    my_numlist.append(s)\n",
        "    my_namelist.append(((filename.split('/')[-1]).split('.')[0])+ '.webm') \n",
        "#adding .webm so that it can be similar to the name of the vedioes present in the ground-truth.csv"
      ],
      "execution_count": null,
      "outputs": []
    },
    {
      "cell_type": "code",
      "metadata": {
        "colab": {
          "base_uri": "https://localhost:8080/"
        },
        "id": "o8j6qzdizZsT",
        "outputId": "f27f1cbb-8224-418e-9505-800b88bfba7e"
      },
      "source": [
        "len(my_numlist[0]) "
      ],
      "execution_count": null,
      "outputs": [
        {
          "output_type": "execute_result",
          "data": {
            "text/plain": [
              "6075"
            ]
          },
          "metadata": {
            "tags": []
          },
          "execution_count": 37
        }
      ]
    },
    {
      "cell_type": "code",
      "metadata": {
        "colab": {
          "base_uri": "https://localhost:8080/"
        },
        "id": "uJIdnjY7zZvl",
        "outputId": "3ee4588a-23ec-4fad-e6a7-e3f12b01241a"
      },
      "source": [
        "len(my_numlist)"
      ],
      "execution_count": null,
      "outputs": [
        {
          "output_type": "execute_result",
          "data": {
            "text/plain": [
              "6000"
            ]
          },
          "metadata": {
            "tags": []
          },
          "execution_count": 38
        }
      ]
    },
    {
      "cell_type": "markdown",
      "metadata": {
        "id": "ueHP6Zr9HobW"
      },
      "source": [
        "*Creating a dataframe to store the extracted HMP features along with corresponding video names*"
      ]
    },
    {
      "cell_type": "code",
      "metadata": {
        "id": "Unk5iXgA2J6s"
      },
      "source": [
        "hmp_devset = pd.DataFrame(np.array(my_numlist).reshape(6000,6075))\n",
        "hmp_devset[\"video\"] = my_namelist"
      ],
      "execution_count": null,
      "outputs": []
    },
    {
      "cell_type": "markdown",
      "metadata": {
        "id": "Hf_ykMUnH3vn"
      },
      "source": [
        "*Merging cleaned ground-truth.csv and extracted HMP features dataframe considering video attribute as a primary key*"
      ]
    },
    {
      "cell_type": "code",
      "metadata": {
        "id": "lZICvEPR2J9J"
      },
      "source": [
        "hmp_devset_df = pd.merge(Ground_Truth_train, hmp_devset, on='video')"
      ],
      "execution_count": null,
      "outputs": []
    },
    {
      "cell_type": "code",
      "metadata": {
        "colab": {
          "base_uri": "https://localhost:8080/",
          "height": 261
        },
        "id": "3nVdGytR2J_x",
        "outputId": "c641fc43-a050-48ce-aa94-29a528badde2"
      },
      "source": [
        "hmp_devset_df.head()"
      ],
      "execution_count": null,
      "outputs": [
        {
          "output_type": "execute_result",
          "data": {
            "text/html": [
              "<div>\n",
              "<style scoped>\n",
              "    .dataframe tbody tr th:only-of-type {\n",
              "        vertical-align: middle;\n",
              "    }\n",
              "\n",
              "    .dataframe tbody tr th {\n",
              "        vertical-align: top;\n",
              "    }\n",
              "\n",
              "    .dataframe thead th {\n",
              "        text-align: right;\n",
              "    }\n",
              "</style>\n",
              "<table border=\"1\" class=\"dataframe\">\n",
              "  <thead>\n",
              "    <tr style=\"text-align: right;\">\n",
              "      <th></th>\n",
              "      <th>video</th>\n",
              "      <th>short-term_memorability</th>\n",
              "      <th>long-term_memorability</th>\n",
              "      <th>0</th>\n",
              "      <th>1</th>\n",
              "      <th>2</th>\n",
              "      <th>3</th>\n",
              "      <th>4</th>\n",
              "      <th>5</th>\n",
              "      <th>6</th>\n",
              "      <th>7</th>\n",
              "      <th>8</th>\n",
              "      <th>9</th>\n",
              "      <th>10</th>\n",
              "      <th>11</th>\n",
              "      <th>12</th>\n",
              "      <th>13</th>\n",
              "      <th>14</th>\n",
              "      <th>15</th>\n",
              "      <th>16</th>\n",
              "      <th>17</th>\n",
              "      <th>18</th>\n",
              "      <th>19</th>\n",
              "      <th>20</th>\n",
              "      <th>21</th>\n",
              "      <th>22</th>\n",
              "      <th>23</th>\n",
              "      <th>24</th>\n",
              "      <th>25</th>\n",
              "      <th>26</th>\n",
              "      <th>27</th>\n",
              "      <th>28</th>\n",
              "      <th>29</th>\n",
              "      <th>30</th>\n",
              "      <th>31</th>\n",
              "      <th>32</th>\n",
              "      <th>33</th>\n",
              "      <th>34</th>\n",
              "      <th>35</th>\n",
              "      <th>36</th>\n",
              "      <th>...</th>\n",
              "      <th>6035</th>\n",
              "      <th>6036</th>\n",
              "      <th>6037</th>\n",
              "      <th>6038</th>\n",
              "      <th>6039</th>\n",
              "      <th>6040</th>\n",
              "      <th>6041</th>\n",
              "      <th>6042</th>\n",
              "      <th>6043</th>\n",
              "      <th>6044</th>\n",
              "      <th>6045</th>\n",
              "      <th>6046</th>\n",
              "      <th>6047</th>\n",
              "      <th>6048</th>\n",
              "      <th>6049</th>\n",
              "      <th>6050</th>\n",
              "      <th>6051</th>\n",
              "      <th>6052</th>\n",
              "      <th>6053</th>\n",
              "      <th>6054</th>\n",
              "      <th>6055</th>\n",
              "      <th>6056</th>\n",
              "      <th>6057</th>\n",
              "      <th>6058</th>\n",
              "      <th>6059</th>\n",
              "      <th>6060</th>\n",
              "      <th>6061</th>\n",
              "      <th>6062</th>\n",
              "      <th>6063</th>\n",
              "      <th>6064</th>\n",
              "      <th>6065</th>\n",
              "      <th>6066</th>\n",
              "      <th>6067</th>\n",
              "      <th>6068</th>\n",
              "      <th>6069</th>\n",
              "      <th>6070</th>\n",
              "      <th>6071</th>\n",
              "      <th>6072</th>\n",
              "      <th>6073</th>\n",
              "      <th>6074</th>\n",
              "    </tr>\n",
              "  </thead>\n",
              "  <tbody>\n",
              "    <tr>\n",
              "      <th>0</th>\n",
              "      <td>video3.webm</td>\n",
              "      <td>0.924</td>\n",
              "      <td>0.846</td>\n",
              "      <td>0.125563</td>\n",
              "      <td>0.024036</td>\n",
              "      <td>0.000314</td>\n",
              "      <td>0.0</td>\n",
              "      <td>0.015864</td>\n",
              "      <td>0.000358</td>\n",
              "      <td>0.0</td>\n",
              "      <td>0.000000</td>\n",
              "      <td>0.000086</td>\n",
              "      <td>0.0</td>\n",
              "      <td>0.0</td>\n",
              "      <td>0.0</td>\n",
              "      <td>0.0</td>\n",
              "      <td>0.002795</td>\n",
              "      <td>0.000054</td>\n",
              "      <td>0.0</td>\n",
              "      <td>0.000000</td>\n",
              "      <td>0.000037</td>\n",
              "      <td>0.0</td>\n",
              "      <td>0.0</td>\n",
              "      <td>0.0</td>\n",
              "      <td>0.0</td>\n",
              "      <td>0.0</td>\n",
              "      <td>0.0</td>\n",
              "      <td>0.0</td>\n",
              "      <td>0.0</td>\n",
              "      <td>0.000005</td>\n",
              "      <td>0.0</td>\n",
              "      <td>0.0</td>\n",
              "      <td>0.0</td>\n",
              "      <td>0.0</td>\n",
              "      <td>0.0</td>\n",
              "      <td>0.0</td>\n",
              "      <td>0.0</td>\n",
              "      <td>0.0</td>\n",
              "      <td>0.0</td>\n",
              "      <td>0.0</td>\n",
              "      <td>...</td>\n",
              "      <td>0.000002</td>\n",
              "      <td>0.000173</td>\n",
              "      <td>0.000459</td>\n",
              "      <td>0.000000</td>\n",
              "      <td>0.000148</td>\n",
              "      <td>0.000104</td>\n",
              "      <td>0.000000</td>\n",
              "      <td>0.000121</td>\n",
              "      <td>0.000551</td>\n",
              "      <td>0.000000</td>\n",
              "      <td>0.000114</td>\n",
              "      <td>0.000884</td>\n",
              "      <td>0.000002</td>\n",
              "      <td>0.000116</td>\n",
              "      <td>0.000077</td>\n",
              "      <td>0.000002</td>\n",
              "      <td>0.000027</td>\n",
              "      <td>0.000136</td>\n",
              "      <td>0.000000</td>\n",
              "      <td>0.000000</td>\n",
              "      <td>0.000002</td>\n",
              "      <td>0.000000</td>\n",
              "      <td>0.000091</td>\n",
              "      <td>0.000035</td>\n",
              "      <td>0.000000</td>\n",
              "      <td>0.000163</td>\n",
              "      <td>0.000467</td>\n",
              "      <td>0.000002</td>\n",
              "      <td>0.000010</td>\n",
              "      <td>0.000017</td>\n",
              "      <td>0.000000</td>\n",
              "      <td>0.000393</td>\n",
              "      <td>0.000279</td>\n",
              "      <td>0.000000</td>\n",
              "      <td>0.000289</td>\n",
              "      <td>0.001926</td>\n",
              "      <td>0.000000</td>\n",
              "      <td>0.000086</td>\n",
              "      <td>0.000580</td>\n",
              "      <td>0.000000</td>\n",
              "    </tr>\n",
              "    <tr>\n",
              "      <th>1</th>\n",
              "      <td>video4.webm</td>\n",
              "      <td>0.923</td>\n",
              "      <td>0.667</td>\n",
              "      <td>0.007526</td>\n",
              "      <td>0.001421</td>\n",
              "      <td>0.000068</td>\n",
              "      <td>0.0</td>\n",
              "      <td>0.001184</td>\n",
              "      <td>0.000143</td>\n",
              "      <td>0.0</td>\n",
              "      <td>0.000000</td>\n",
              "      <td>0.000079</td>\n",
              "      <td>0.0</td>\n",
              "      <td>0.0</td>\n",
              "      <td>0.0</td>\n",
              "      <td>0.0</td>\n",
              "      <td>0.000246</td>\n",
              "      <td>0.000024</td>\n",
              "      <td>0.0</td>\n",
              "      <td>0.000000</td>\n",
              "      <td>0.000042</td>\n",
              "      <td>0.0</td>\n",
              "      <td>0.0</td>\n",
              "      <td>0.0</td>\n",
              "      <td>0.0</td>\n",
              "      <td>0.0</td>\n",
              "      <td>0.0</td>\n",
              "      <td>0.0</td>\n",
              "      <td>0.0</td>\n",
              "      <td>0.000004</td>\n",
              "      <td>0.0</td>\n",
              "      <td>0.0</td>\n",
              "      <td>0.0</td>\n",
              "      <td>0.0</td>\n",
              "      <td>0.0</td>\n",
              "      <td>0.0</td>\n",
              "      <td>0.0</td>\n",
              "      <td>0.0</td>\n",
              "      <td>0.0</td>\n",
              "      <td>0.0</td>\n",
              "      <td>...</td>\n",
              "      <td>0.000685</td>\n",
              "      <td>0.000308</td>\n",
              "      <td>0.001054</td>\n",
              "      <td>0.000751</td>\n",
              "      <td>0.000176</td>\n",
              "      <td>0.000062</td>\n",
              "      <td>0.000000</td>\n",
              "      <td>0.000123</td>\n",
              "      <td>0.000398</td>\n",
              "      <td>0.000086</td>\n",
              "      <td>0.000246</td>\n",
              "      <td>0.000433</td>\n",
              "      <td>0.000446</td>\n",
              "      <td>0.000143</td>\n",
              "      <td>0.000053</td>\n",
              "      <td>0.000000</td>\n",
              "      <td>0.000053</td>\n",
              "      <td>0.000099</td>\n",
              "      <td>0.000009</td>\n",
              "      <td>0.000004</td>\n",
              "      <td>0.000033</td>\n",
              "      <td>0.000004</td>\n",
              "      <td>0.000051</td>\n",
              "      <td>0.000035</td>\n",
              "      <td>0.000000</td>\n",
              "      <td>0.000062</td>\n",
              "      <td>0.000358</td>\n",
              "      <td>0.000035</td>\n",
              "      <td>0.000024</td>\n",
              "      <td>0.000083</td>\n",
              "      <td>0.000053</td>\n",
              "      <td>0.000244</td>\n",
              "      <td>0.000066</td>\n",
              "      <td>0.000000</td>\n",
              "      <td>0.000081</td>\n",
              "      <td>0.000617</td>\n",
              "      <td>0.000094</td>\n",
              "      <td>0.000220</td>\n",
              "      <td>0.000762</td>\n",
              "      <td>0.001224</td>\n",
              "    </tr>\n",
              "    <tr>\n",
              "      <th>2</th>\n",
              "      <td>video6.webm</td>\n",
              "      <td>0.863</td>\n",
              "      <td>0.700</td>\n",
              "      <td>0.109584</td>\n",
              "      <td>0.018978</td>\n",
              "      <td>0.000289</td>\n",
              "      <td>0.0</td>\n",
              "      <td>0.008774</td>\n",
              "      <td>0.000208</td>\n",
              "      <td>0.0</td>\n",
              "      <td>0.000002</td>\n",
              "      <td>0.000088</td>\n",
              "      <td>0.0</td>\n",
              "      <td>0.0</td>\n",
              "      <td>0.0</td>\n",
              "      <td>0.0</td>\n",
              "      <td>0.002046</td>\n",
              "      <td>0.000061</td>\n",
              "      <td>0.0</td>\n",
              "      <td>0.000000</td>\n",
              "      <td>0.000038</td>\n",
              "      <td>0.0</td>\n",
              "      <td>0.0</td>\n",
              "      <td>0.0</td>\n",
              "      <td>0.0</td>\n",
              "      <td>0.0</td>\n",
              "      <td>0.0</td>\n",
              "      <td>0.0</td>\n",
              "      <td>0.0</td>\n",
              "      <td>0.000002</td>\n",
              "      <td>0.0</td>\n",
              "      <td>0.0</td>\n",
              "      <td>0.0</td>\n",
              "      <td>0.0</td>\n",
              "      <td>0.0</td>\n",
              "      <td>0.0</td>\n",
              "      <td>0.0</td>\n",
              "      <td>0.0</td>\n",
              "      <td>0.0</td>\n",
              "      <td>0.0</td>\n",
              "      <td>...</td>\n",
              "      <td>0.000083</td>\n",
              "      <td>0.000057</td>\n",
              "      <td>0.000158</td>\n",
              "      <td>0.000073</td>\n",
              "      <td>0.000021</td>\n",
              "      <td>0.000009</td>\n",
              "      <td>0.000002</td>\n",
              "      <td>0.000019</td>\n",
              "      <td>0.000095</td>\n",
              "      <td>0.000021</td>\n",
              "      <td>0.000019</td>\n",
              "      <td>0.000090</td>\n",
              "      <td>0.000073</td>\n",
              "      <td>0.000050</td>\n",
              "      <td>0.000024</td>\n",
              "      <td>0.000000</td>\n",
              "      <td>0.000012</td>\n",
              "      <td>0.000021</td>\n",
              "      <td>0.000000</td>\n",
              "      <td>0.000000</td>\n",
              "      <td>0.000002</td>\n",
              "      <td>0.000000</td>\n",
              "      <td>0.000017</td>\n",
              "      <td>0.000007</td>\n",
              "      <td>0.000002</td>\n",
              "      <td>0.000066</td>\n",
              "      <td>0.000203</td>\n",
              "      <td>0.000026</td>\n",
              "      <td>0.000002</td>\n",
              "      <td>0.000040</td>\n",
              "      <td>0.000007</td>\n",
              "      <td>0.000054</td>\n",
              "      <td>0.000045</td>\n",
              "      <td>0.000000</td>\n",
              "      <td>0.000028</td>\n",
              "      <td>0.000291</td>\n",
              "      <td>0.000033</td>\n",
              "      <td>0.000052</td>\n",
              "      <td>0.000258</td>\n",
              "      <td>0.000215</td>\n",
              "    </tr>\n",
              "    <tr>\n",
              "      <th>3</th>\n",
              "      <td>video8.webm</td>\n",
              "      <td>0.922</td>\n",
              "      <td>0.818</td>\n",
              "      <td>0.120431</td>\n",
              "      <td>0.013561</td>\n",
              "      <td>0.000277</td>\n",
              "      <td>0.0</td>\n",
              "      <td>0.018974</td>\n",
              "      <td>0.000913</td>\n",
              "      <td>0.0</td>\n",
              "      <td>0.000024</td>\n",
              "      <td>0.000713</td>\n",
              "      <td>0.0</td>\n",
              "      <td>0.0</td>\n",
              "      <td>0.0</td>\n",
              "      <td>0.0</td>\n",
              "      <td>0.002496</td>\n",
              "      <td>0.000149</td>\n",
              "      <td>0.0</td>\n",
              "      <td>0.000011</td>\n",
              "      <td>0.000157</td>\n",
              "      <td>0.0</td>\n",
              "      <td>0.0</td>\n",
              "      <td>0.0</td>\n",
              "      <td>0.0</td>\n",
              "      <td>0.0</td>\n",
              "      <td>0.0</td>\n",
              "      <td>0.0</td>\n",
              "      <td>0.0</td>\n",
              "      <td>0.000005</td>\n",
              "      <td>0.0</td>\n",
              "      <td>0.0</td>\n",
              "      <td>0.0</td>\n",
              "      <td>0.0</td>\n",
              "      <td>0.0</td>\n",
              "      <td>0.0</td>\n",
              "      <td>0.0</td>\n",
              "      <td>0.0</td>\n",
              "      <td>0.0</td>\n",
              "      <td>0.0</td>\n",
              "      <td>...</td>\n",
              "      <td>0.000210</td>\n",
              "      <td>0.000434</td>\n",
              "      <td>0.000543</td>\n",
              "      <td>0.000412</td>\n",
              "      <td>0.000412</td>\n",
              "      <td>0.000045</td>\n",
              "      <td>0.000003</td>\n",
              "      <td>0.000144</td>\n",
              "      <td>0.000282</td>\n",
              "      <td>0.000037</td>\n",
              "      <td>0.000197</td>\n",
              "      <td>0.000218</td>\n",
              "      <td>0.000157</td>\n",
              "      <td>0.000237</td>\n",
              "      <td>0.000021</td>\n",
              "      <td>0.000000</td>\n",
              "      <td>0.000040</td>\n",
              "      <td>0.000056</td>\n",
              "      <td>0.000008</td>\n",
              "      <td>0.000005</td>\n",
              "      <td>0.000013</td>\n",
              "      <td>0.000019</td>\n",
              "      <td>0.000168</td>\n",
              "      <td>0.000013</td>\n",
              "      <td>0.000000</td>\n",
              "      <td>0.000133</td>\n",
              "      <td>0.000202</td>\n",
              "      <td>0.000029</td>\n",
              "      <td>0.000029</td>\n",
              "      <td>0.000035</td>\n",
              "      <td>0.000059</td>\n",
              "      <td>0.001110</td>\n",
              "      <td>0.000075</td>\n",
              "      <td>0.000008</td>\n",
              "      <td>0.000333</td>\n",
              "      <td>0.000793</td>\n",
              "      <td>0.000101</td>\n",
              "      <td>0.000588</td>\n",
              "      <td>0.000503</td>\n",
              "      <td>0.000452</td>\n",
              "    </tr>\n",
              "    <tr>\n",
              "      <th>4</th>\n",
              "      <td>video10.webm</td>\n",
              "      <td>0.950</td>\n",
              "      <td>0.900</td>\n",
              "      <td>0.005026</td>\n",
              "      <td>0.001356</td>\n",
              "      <td>0.000055</td>\n",
              "      <td>0.0</td>\n",
              "      <td>0.000665</td>\n",
              "      <td>0.000029</td>\n",
              "      <td>0.0</td>\n",
              "      <td>0.000000</td>\n",
              "      <td>0.000024</td>\n",
              "      <td>0.0</td>\n",
              "      <td>0.0</td>\n",
              "      <td>0.0</td>\n",
              "      <td>0.0</td>\n",
              "      <td>0.000147</td>\n",
              "      <td>0.000020</td>\n",
              "      <td>0.0</td>\n",
              "      <td>0.000000</td>\n",
              "      <td>0.000000</td>\n",
              "      <td>0.0</td>\n",
              "      <td>0.0</td>\n",
              "      <td>0.0</td>\n",
              "      <td>0.0</td>\n",
              "      <td>0.0</td>\n",
              "      <td>0.0</td>\n",
              "      <td>0.0</td>\n",
              "      <td>0.0</td>\n",
              "      <td>0.000000</td>\n",
              "      <td>0.0</td>\n",
              "      <td>0.0</td>\n",
              "      <td>0.0</td>\n",
              "      <td>0.0</td>\n",
              "      <td>0.0</td>\n",
              "      <td>0.0</td>\n",
              "      <td>0.0</td>\n",
              "      <td>0.0</td>\n",
              "      <td>0.0</td>\n",
              "      <td>0.0</td>\n",
              "      <td>...</td>\n",
              "      <td>0.000160</td>\n",
              "      <td>0.000996</td>\n",
              "      <td>0.001604</td>\n",
              "      <td>0.000103</td>\n",
              "      <td>0.000768</td>\n",
              "      <td>0.000215</td>\n",
              "      <td>0.000009</td>\n",
              "      <td>0.000415</td>\n",
              "      <td>0.000926</td>\n",
              "      <td>0.000020</td>\n",
              "      <td>0.000538</td>\n",
              "      <td>0.001178</td>\n",
              "      <td>0.000050</td>\n",
              "      <td>0.000518</td>\n",
              "      <td>0.000169</td>\n",
              "      <td>0.000007</td>\n",
              "      <td>0.000134</td>\n",
              "      <td>0.000169</td>\n",
              "      <td>0.000007</td>\n",
              "      <td>0.000026</td>\n",
              "      <td>0.000046</td>\n",
              "      <td>0.000007</td>\n",
              "      <td>0.000373</td>\n",
              "      <td>0.000088</td>\n",
              "      <td>0.000000</td>\n",
              "      <td>0.000338</td>\n",
              "      <td>0.000441</td>\n",
              "      <td>0.000029</td>\n",
              "      <td>0.000070</td>\n",
              "      <td>0.000149</td>\n",
              "      <td>0.000009</td>\n",
              "      <td>0.000882</td>\n",
              "      <td>0.000200</td>\n",
              "      <td>0.000009</td>\n",
              "      <td>0.000559</td>\n",
              "      <td>0.001097</td>\n",
              "      <td>0.000018</td>\n",
              "      <td>0.000632</td>\n",
              "      <td>0.001128</td>\n",
              "      <td>0.000064</td>\n",
              "    </tr>\n",
              "  </tbody>\n",
              "</table>\n",
              "<p>5 rows × 6078 columns</p>\n",
              "</div>"
            ],
            "text/plain": [
              "          video  short-term_memorability  ...      6073      6074\n",
              "0   video3.webm                    0.924  ...  0.000580  0.000000\n",
              "1   video4.webm                    0.923  ...  0.000762  0.001224\n",
              "2   video6.webm                    0.863  ...  0.000258  0.000215\n",
              "3   video8.webm                    0.922  ...  0.000503  0.000452\n",
              "4  video10.webm                    0.950  ...  0.001128  0.000064\n",
              "\n",
              "[5 rows x 6078 columns]"
            ]
          },
          "metadata": {
            "tags": []
          },
          "execution_count": 43
        }
      ]
    },
    {
      "cell_type": "markdown",
      "metadata": {
        "id": "PWOz1pv4IEts"
      },
      "source": [
        "*Locking the extracted HMP features on the dataframe using iloc function*"
      ]
    },
    {
      "cell_type": "code",
      "metadata": {
        "id": "mbbNlNZb2KDL"
      },
      "source": [
        "hmp_devset_features = hmp_devset_df.iloc[:,3:104].values"
      ],
      "execution_count": null,
      "outputs": []
    },
    {
      "cell_type": "code",
      "metadata": {
        "colab": {
          "base_uri": "https://localhost:8080/"
        },
        "id": "6LerqOG82biQ",
        "outputId": "73c28d77-a6f0-4890-cef1-24075169302a"
      },
      "source": [
        "hmp_devset_features.shape"
      ],
      "execution_count": null,
      "outputs": [
        {
          "output_type": "execute_result",
          "data": {
            "text/plain": [
              "(6000, 101)"
            ]
          },
          "metadata": {
            "tags": []
          },
          "execution_count": 45
        }
      ]
    },
    {
      "cell_type": "markdown",
      "metadata": {
        "id": "5e2o3cdzIQol"
      },
      "source": [
        "*HMP features from the training set are now ready and they can be used directly into model*"
      ]
    },
    {
      "cell_type": "code",
      "metadata": {
        "id": "28BB_WK16jYu"
      },
      "source": [
        "def Get_score(Y_pred,Y_true):\n",
        "    '''Calculate the Spearmann\"s correlation coefficient'''\n",
        "    Y_pred = np.squeeze(Y_pred)\n",
        "    Y_true = np.squeeze(Y_true)\n",
        "    if Y_pred.shape != Y_true.shape:\n",
        "        print('Input shapes don\\'t match!')\n",
        "    else:\n",
        "        if len(Y_pred.shape) == 1:\n",
        "            Res = pd.DataFrame({'Y_true':Y_true,'Y_pred':Y_pred})\n",
        "            score_mat = Res[['Y_true','Y_pred']].corr(method='spearman',min_periods=1)\n",
        "            print('The Spearman\\'s correlation coefficient is: %.3f' % score_mat.iloc[1][0])\n",
        "        else:\n",
        "            for ii in range(Y_pred.shape[1]):\n",
        "                Get_score(Y_pred[:,ii],Y_true[:,ii])"
      ],
      "execution_count": null,
      "outputs": []
    },
    {
      "cell_type": "markdown",
      "metadata": {
        "id": "no1PlbyNIehE"
      },
      "source": [
        "*Assigning the values to X and Y variables*"
      ]
    },
    {
      "cell_type": "code",
      "metadata": {
        "id": "eVkCZTHh2blC"
      },
      "source": [
        "X = hmp_devset_features\n",
        "y = Ground_Truth_train.iloc[:, 1:3].values"
      ],
      "execution_count": null,
      "outputs": []
    },
    {
      "cell_type": "markdown",
      "metadata": {
        "id": "KDZIH6pJI3OD"
      },
      "source": [
        "*Splitting the data into train set and test set*"
      ]
    },
    {
      "cell_type": "code",
      "metadata": {
        "id": "wt5pTtO-I1Xn"
      },
      "source": [
        "from sklearn.model_selection import train_test_split\n",
        "X_train, X_test, y_train, y_test = train_test_split(X, y, test_size = 0.20)"
      ],
      "execution_count": null,
      "outputs": []
    },
    {
      "cell_type": "markdown",
      "metadata": {
        "id": "USxhf7XWJFZQ"
      },
      "source": [
        "*Fitting the HMP features into Decision Tree Model*"
      ]
    },
    {
      "cell_type": "code",
      "metadata": {
        "colab": {
          "base_uri": "https://localhost:8080/"
        },
        "id": "jMVi8ptM2boo",
        "outputId": "aa6489dd-a5e7-48ac-c2be-d45275d9ae5a"
      },
      "source": [
        "from sklearn.tree import DecisionTreeRegressor\n",
        "DTregressor = DecisionTreeRegressor()\n",
        "DTregressor.fit(X_train, y_train)"
      ],
      "execution_count": null,
      "outputs": [
        {
          "output_type": "execute_result",
          "data": {
            "text/plain": [
              "DecisionTreeRegressor(ccp_alpha=0.0, criterion='mse', max_depth=None,\n",
              "                      max_features=None, max_leaf_nodes=None,\n",
              "                      min_impurity_decrease=0.0, min_impurity_split=None,\n",
              "                      min_samples_leaf=1, min_samples_split=2,\n",
              "                      min_weight_fraction_leaf=0.0, presort='deprecated',\n",
              "                      random_state=None, splitter='best')"
            ]
          },
          "metadata": {
            "tags": []
          },
          "execution_count": 61
        }
      ]
    },
    {
      "cell_type": "code",
      "metadata": {
        "colab": {
          "base_uri": "https://localhost:8080/"
        },
        "id": "Dv6siHxo5Z1j",
        "outputId": "67701348-dcec-49fe-8629-843047c9fdc0"
      },
      "source": [
        "y_pred = DTregressor.predict(X_test)\n",
        "Get_score(y_pred, y_test)"
      ],
      "execution_count": null,
      "outputs": [
        {
          "output_type": "stream",
          "text": [
            "The Spearman's correlation coefficient is: 0.085\n",
            "The Spearman's correlation coefficient is: 0.061\n"
          ],
          "name": "stdout"
        }
      ]
    },
    {
      "cell_type": "markdown",
      "metadata": {
        "id": "bL-V-5xqJNGf"
      },
      "source": [
        "*Fitting the HMP features into Linear Regression Model*"
      ]
    },
    {
      "cell_type": "code",
      "metadata": {
        "colab": {
          "base_uri": "https://localhost:8080/"
        },
        "id": "5pYhLCmx6ZsL",
        "outputId": "aade88b4-94c2-4b1b-cac2-f451e3781d44"
      },
      "source": [
        "from sklearn.linear_model import LinearRegression\n",
        "LMregressor = LinearRegression()\n",
        "LMregressor.fit(X_train, y_train)"
      ],
      "execution_count": null,
      "outputs": [
        {
          "output_type": "execute_result",
          "data": {
            "text/plain": [
              "LinearRegression(copy_X=True, fit_intercept=True, n_jobs=None, normalize=False)"
            ]
          },
          "metadata": {
            "tags": []
          },
          "execution_count": 63
        }
      ]
    },
    {
      "cell_type": "code",
      "metadata": {
        "colab": {
          "base_uri": "https://localhost:8080/"
        },
        "id": "mbjWBc292lqG",
        "outputId": "82b6d2c8-0069-4882-9440-51ae93f93b77"
      },
      "source": [
        "y_pred = LMregressor.predict(X_test)\n",
        "Get_score(y_pred, y_test)"
      ],
      "execution_count": null,
      "outputs": [
        {
          "output_type": "stream",
          "text": [
            "The Spearman's correlation coefficient is: 0.158\n",
            "The Spearman's correlation coefficient is: 0.096\n"
          ],
          "name": "stdout"
        }
      ]
    },
    {
      "cell_type": "markdown",
      "metadata": {
        "id": "G3yzhwWqJWn_"
      },
      "source": [
        "*Fitting the HMP features into KNN Model*"
      ]
    },
    {
      "cell_type": "code",
      "metadata": {
        "colab": {
          "base_uri": "https://localhost:8080/"
        },
        "id": "kQPt7gHP2ltI",
        "outputId": "2b115fc1-6f7e-4adc-f72d-c790dd9f1b82"
      },
      "source": [
        "from sklearn.neighbors import KNeighborsRegressor\n",
        "knnRegressor = KNeighborsRegressor(n_neighbors = 100)\n",
        "knnRegressor.fit(X_train, y_train)\n",
        "y_pred = knnRegressor.predict(X_test)\n",
        "Get_score(y_pred, y_test)"
      ],
      "execution_count": null,
      "outputs": [
        {
          "output_type": "stream",
          "text": [
            "The Spearman's correlation coefficient is: 0.140\n",
            "The Spearman's correlation coefficient is: 0.000\n"
          ],
          "name": "stdout"
        }
      ]
    },
    {
      "cell_type": "markdown",
      "metadata": {
        "id": "Y3OZZwvYJekd"
      },
      "source": [
        "*Fitting the HMP features into Random Forest Model*"
      ]
    },
    {
      "cell_type": "code",
      "metadata": {
        "colab": {
          "base_uri": "https://localhost:8080/"
        },
        "id": "bgG5pBdJ2lwe",
        "outputId": "0f7e8b6f-8816-4e79-ecca-1f30688dbc68"
      },
      "source": [
        "RFregressor = RandomForestRegressor(n_estimators=500)\n",
        "RFregressor.fit(X_train, y_train)"
      ],
      "execution_count": null,
      "outputs": [
        {
          "output_type": "execute_result",
          "data": {
            "text/plain": [
              "RandomForestRegressor(bootstrap=True, ccp_alpha=0.0, criterion='mse',\n",
              "                      max_depth=None, max_features='auto', max_leaf_nodes=None,\n",
              "                      max_samples=None, min_impurity_decrease=0.0,\n",
              "                      min_impurity_split=None, min_samples_leaf=1,\n",
              "                      min_samples_split=2, min_weight_fraction_leaf=0.0,\n",
              "                      n_estimators=500, n_jobs=None, oob_score=False,\n",
              "                      random_state=None, verbose=0, warm_start=False)"
            ]
          },
          "metadata": {
            "tags": []
          },
          "execution_count": 67
        }
      ]
    },
    {
      "cell_type": "code",
      "metadata": {
        "colab": {
          "base_uri": "https://localhost:8080/"
        },
        "id": "PREkGS7j2mAi",
        "outputId": "92d33f2d-e0e0-4a62-ef8f-e4039136d449"
      },
      "source": [
        "y_pred = RFregressor.predict(X_test)\n",
        "Get_score(y_pred, y_test)"
      ],
      "execution_count": null,
      "outputs": [
        {
          "output_type": "stream",
          "text": [
            "The Spearman's correlation coefficient is: 0.223\n",
            "The Spearman's correlation coefficient is: 0.063\n"
          ],
          "name": "stdout"
        }
      ]
    },
    {
      "cell_type": "markdown",
      "metadata": {
        "id": "ZDE7eTWoUusK"
      },
      "source": [
        "### **Final Predictor Model**"
      ]
    },
    {
      "cell_type": "markdown",
      "metadata": {
        "id": "px0uNx7JWn_Q"
      },
      "source": [
        "By comparing the above models performed on C3D and HMP dev-sets it is found that C3D has got best spearman's scores when fitted into Random Forest model.\n",
        "So, C3D test set is used in final predictor model and Random Forest Regressor is performed on that to get the short-term and long-term prediction scores  "
      ]
    },
    {
      "cell_type": "markdown",
      "metadata": {
        "id": "lkSgdIIpJU4_"
      },
      "source": [
        "*Defining a method to read the C3D testset features from the given .txt files*"
      ]
    },
    {
      "cell_type": "code",
      "metadata": {
        "id": "yr2P0knS39Yp"
      },
      "source": [
        "def read_C3D(fname):\n",
        "    \"\"\"Scan vectors from file\"\"\"\n",
        "    with open(fname) as f:\n",
        "        for line in f:\n",
        "            C3D_test =[float(item) for item in line.split()] # convert to float type, using default separator\n",
        "    return C3D_test"
      ],
      "execution_count": null,
      "outputs": []
    },
    {
      "cell_type": "markdown",
      "metadata": {
        "id": "Zi1urrtNLouE"
      },
      "source": [
        "*Calling a method to get the C3D testset features and creating the array lists using loop to store them.*"
      ]
    },
    {
      "cell_type": "code",
      "metadata": {
        "id": "iKlwsIv5J-SR"
      },
      "source": [
        " my_numlist= [] # Creating a list to store the C3D features\n",
        "my_namelist = [] #Creating a list to store the videos names\n",
        "path = 'Test-set/C3D_test/*.txt'\n",
        "for filename in glob.glob('Test-set/C3D_test/*.txt'):\n",
        "    s= read_C3D(filename)\n",
        "    my_numlist.append(s)\n",
        "    my_namelist.append(((filename.split('/')[-1]).split('.')[0])+ '.webm') \n",
        "#adding .webm so that it can be similar to the name of the vedioes present in the ground-truth.csv"
      ],
      "execution_count": null,
      "outputs": []
    },
    {
      "cell_type": "code",
      "metadata": {
        "colab": {
          "base_uri": "https://localhost:8080/"
        },
        "id": "DdWOCZEcJ-Vp",
        "outputId": "94015f3e-8edd-4a70-c15a-6ec2f6378342"
      },
      "source": [
        "len(my_numlist[0])"
      ],
      "execution_count": null,
      "outputs": [
        {
          "output_type": "execute_result",
          "data": {
            "text/plain": [
              "101"
            ]
          },
          "metadata": {
            "tags": []
          },
          "execution_count": 84
        }
      ]
    },
    {
      "cell_type": "code",
      "metadata": {
        "colab": {
          "base_uri": "https://localhost:8080/"
        },
        "id": "UuENP_FmUc1T",
        "outputId": "f200de79-1190-4321-f34c-6dbc0db927ca"
      },
      "source": [
        "len(my_numlist)"
      ],
      "execution_count": null,
      "outputs": [
        {
          "output_type": "execute_result",
          "data": {
            "text/plain": [
              "2000"
            ]
          },
          "metadata": {
            "tags": []
          },
          "execution_count": 85
        }
      ]
    },
    {
      "cell_type": "markdown",
      "metadata": {
        "id": "NDwvyxBJL-04"
      },
      "source": [
        "*Creating a dataframe to store the extracted C3D testset features along with corresponding video names*"
      ]
    },
    {
      "cell_type": "code",
      "metadata": {
        "id": "zf_b30E5Uc4o"
      },
      "source": [
        "c3d_test = pd.DataFrame(np.array(my_numlist).reshape(2000,101))\n",
        "c3d_test[\"video\"] = my_namelist\n",
        "#creating new column as video and assigning the names of the vidoes"
      ],
      "execution_count": null,
      "outputs": []
    },
    {
      "cell_type": "code",
      "metadata": {
        "colab": {
          "base_uri": "https://localhost:8080/",
          "height": 590
        },
        "id": "MuKYoBn6VCzQ",
        "outputId": "264e5108-9863-4f11-f438-50dd4478c263"
      },
      "source": [
        "c3d_test"
      ],
      "execution_count": null,
      "outputs": [
        {
          "output_type": "execute_result",
          "data": {
            "text/html": [
              "<div>\n",
              "<style scoped>\n",
              "    .dataframe tbody tr th:only-of-type {\n",
              "        vertical-align: middle;\n",
              "    }\n",
              "\n",
              "    .dataframe tbody tr th {\n",
              "        vertical-align: top;\n",
              "    }\n",
              "\n",
              "    .dataframe thead th {\n",
              "        text-align: right;\n",
              "    }\n",
              "</style>\n",
              "<table border=\"1\" class=\"dataframe\">\n",
              "  <thead>\n",
              "    <tr style=\"text-align: right;\">\n",
              "      <th></th>\n",
              "      <th>0</th>\n",
              "      <th>1</th>\n",
              "      <th>2</th>\n",
              "      <th>3</th>\n",
              "      <th>4</th>\n",
              "      <th>5</th>\n",
              "      <th>6</th>\n",
              "      <th>7</th>\n",
              "      <th>8</th>\n",
              "      <th>9</th>\n",
              "      <th>10</th>\n",
              "      <th>11</th>\n",
              "      <th>12</th>\n",
              "      <th>13</th>\n",
              "      <th>14</th>\n",
              "      <th>15</th>\n",
              "      <th>16</th>\n",
              "      <th>17</th>\n",
              "      <th>18</th>\n",
              "      <th>19</th>\n",
              "      <th>20</th>\n",
              "      <th>21</th>\n",
              "      <th>22</th>\n",
              "      <th>23</th>\n",
              "      <th>24</th>\n",
              "      <th>25</th>\n",
              "      <th>26</th>\n",
              "      <th>27</th>\n",
              "      <th>28</th>\n",
              "      <th>29</th>\n",
              "      <th>30</th>\n",
              "      <th>31</th>\n",
              "      <th>32</th>\n",
              "      <th>33</th>\n",
              "      <th>34</th>\n",
              "      <th>35</th>\n",
              "      <th>36</th>\n",
              "      <th>37</th>\n",
              "      <th>38</th>\n",
              "      <th>39</th>\n",
              "      <th>...</th>\n",
              "      <th>62</th>\n",
              "      <th>63</th>\n",
              "      <th>64</th>\n",
              "      <th>65</th>\n",
              "      <th>66</th>\n",
              "      <th>67</th>\n",
              "      <th>68</th>\n",
              "      <th>69</th>\n",
              "      <th>70</th>\n",
              "      <th>71</th>\n",
              "      <th>72</th>\n",
              "      <th>73</th>\n",
              "      <th>74</th>\n",
              "      <th>75</th>\n",
              "      <th>76</th>\n",
              "      <th>77</th>\n",
              "      <th>78</th>\n",
              "      <th>79</th>\n",
              "      <th>80</th>\n",
              "      <th>81</th>\n",
              "      <th>82</th>\n",
              "      <th>83</th>\n",
              "      <th>84</th>\n",
              "      <th>85</th>\n",
              "      <th>86</th>\n",
              "      <th>87</th>\n",
              "      <th>88</th>\n",
              "      <th>89</th>\n",
              "      <th>90</th>\n",
              "      <th>91</th>\n",
              "      <th>92</th>\n",
              "      <th>93</th>\n",
              "      <th>94</th>\n",
              "      <th>95</th>\n",
              "      <th>96</th>\n",
              "      <th>97</th>\n",
              "      <th>98</th>\n",
              "      <th>99</th>\n",
              "      <th>100</th>\n",
              "      <th>video</th>\n",
              "    </tr>\n",
              "  </thead>\n",
              "  <tbody>\n",
              "    <tr>\n",
              "      <th>0</th>\n",
              "      <td>0.001339</td>\n",
              "      <td>0.000271</td>\n",
              "      <td>0.000396</td>\n",
              "      <td>8.307000e-05</td>\n",
              "      <td>3.563000e-05</td>\n",
              "      <td>4.400000e-07</td>\n",
              "      <td>3.804000e-05</td>\n",
              "      <td>9.790000e-06</td>\n",
              "      <td>1.510000e-06</td>\n",
              "      <td>4.700000e-07</td>\n",
              "      <td>5.432000e-05</td>\n",
              "      <td>5.006000e-05</td>\n",
              "      <td>0.000001</td>\n",
              "      <td>0.000017</td>\n",
              "      <td>8.400000e-07</td>\n",
              "      <td>1.308300e-04</td>\n",
              "      <td>4.221000e-05</td>\n",
              "      <td>1.034700e-04</td>\n",
              "      <td>1.215000e-05</td>\n",
              "      <td>3.909700e-04</td>\n",
              "      <td>1.270000e-05</td>\n",
              "      <td>1.214700e-04</td>\n",
              "      <td>2.900000e-06</td>\n",
              "      <td>1.494000e-05</td>\n",
              "      <td>1.316220e-02</td>\n",
              "      <td>9.115802e-01</td>\n",
              "      <td>4.500000e-07</td>\n",
              "      <td>5.990000e-06</td>\n",
              "      <td>1.202600e-04</td>\n",
              "      <td>1.600200e-04</td>\n",
              "      <td>3.000000e-07</td>\n",
              "      <td>1.724010e-03</td>\n",
              "      <td>8.617000e-05</td>\n",
              "      <td>3.620000e-06</td>\n",
              "      <td>1.636000e-04</td>\n",
              "      <td>2.910000e-06</td>\n",
              "      <td>5.937800e-04</td>\n",
              "      <td>3.772300e-04</td>\n",
              "      <td>8.146800e-04</td>\n",
              "      <td>2.045200e-04</td>\n",
              "      <td>...</td>\n",
              "      <td>2.128100e-04</td>\n",
              "      <td>0.000678</td>\n",
              "      <td>0.000003</td>\n",
              "      <td>0.000087</td>\n",
              "      <td>0.000040</td>\n",
              "      <td>1.532000e-05</td>\n",
              "      <td>0.000174</td>\n",
              "      <td>4.847000e-05</td>\n",
              "      <td>0.000070</td>\n",
              "      <td>3.430000e-05</td>\n",
              "      <td>4.300000e-07</td>\n",
              "      <td>0.000343</td>\n",
              "      <td>8.750000e-06</td>\n",
              "      <td>3.281800e-04</td>\n",
              "      <td>4.200000e-07</td>\n",
              "      <td>0.004115</td>\n",
              "      <td>1.450000e-06</td>\n",
              "      <td>1.028000e-05</td>\n",
              "      <td>3.148000e-05</td>\n",
              "      <td>3.042480e-03</td>\n",
              "      <td>3.889000e-05</td>\n",
              "      <td>2.925400e-04</td>\n",
              "      <td>0.000017</td>\n",
              "      <td>3.071000e-05</td>\n",
              "      <td>1.440000e-06</td>\n",
              "      <td>1.033380e-03</td>\n",
              "      <td>2.564000e-05</td>\n",
              "      <td>1.389678e-02</td>\n",
              "      <td>0.000043</td>\n",
              "      <td>2.050600e-03</td>\n",
              "      <td>3.180000e-06</td>\n",
              "      <td>7.582000e-05</td>\n",
              "      <td>3.406500e-04</td>\n",
              "      <td>1.238000e-05</td>\n",
              "      <td>1.120000e-06</td>\n",
              "      <td>4.935200e-04</td>\n",
              "      <td>0.000074</td>\n",
              "      <td>0.001017</td>\n",
              "      <td>0.000176</td>\n",
              "      <td>video8764.webm</td>\n",
              "    </tr>\n",
              "    <tr>\n",
              "      <th>1</th>\n",
              "      <td>0.000001</td>\n",
              "      <td>0.000012</td>\n",
              "      <td>0.000025</td>\n",
              "      <td>1.226000e-05</td>\n",
              "      <td>5.808000e-05</td>\n",
              "      <td>5.716800e-04</td>\n",
              "      <td>1.620000e-06</td>\n",
              "      <td>1.510000e-06</td>\n",
              "      <td>3.001000e-05</td>\n",
              "      <td>3.270000e-06</td>\n",
              "      <td>1.400000e-07</td>\n",
              "      <td>1.003420e-03</td>\n",
              "      <td>0.000391</td>\n",
              "      <td>0.000002</td>\n",
              "      <td>4.340000e-06</td>\n",
              "      <td>7.800000e-07</td>\n",
              "      <td>8.400000e-06</td>\n",
              "      <td>8.700000e-07</td>\n",
              "      <td>1.337300e-04</td>\n",
              "      <td>1.070000e-06</td>\n",
              "      <td>9.800000e-07</td>\n",
              "      <td>6.974269e-02</td>\n",
              "      <td>3.310000e-06</td>\n",
              "      <td>5.284500e-04</td>\n",
              "      <td>2.800000e-07</td>\n",
              "      <td>4.495000e-05</td>\n",
              "      <td>1.260000e-05</td>\n",
              "      <td>7.470000e-06</td>\n",
              "      <td>2.300000e-06</td>\n",
              "      <td>1.510000e-06</td>\n",
              "      <td>3.140989e-02</td>\n",
              "      <td>4.365500e-04</td>\n",
              "      <td>2.710000e-06</td>\n",
              "      <td>1.300000e-07</td>\n",
              "      <td>2.000000e-08</td>\n",
              "      <td>4.524000e-05</td>\n",
              "      <td>1.165700e-04</td>\n",
              "      <td>4.900000e-07</td>\n",
              "      <td>1.020000e-06</td>\n",
              "      <td>1.340000e-06</td>\n",
              "      <td>...</td>\n",
              "      <td>6.500000e-07</td>\n",
              "      <td>0.000005</td>\n",
              "      <td>0.000036</td>\n",
              "      <td>0.000022</td>\n",
              "      <td>0.000002</td>\n",
              "      <td>5.124000e-05</td>\n",
              "      <td>0.000002</td>\n",
              "      <td>1.907000e-05</td>\n",
              "      <td>0.000003</td>\n",
              "      <td>4.000000e-07</td>\n",
              "      <td>3.236100e-04</td>\n",
              "      <td>0.869472</td>\n",
              "      <td>1.204500e-04</td>\n",
              "      <td>5.333320e-03</td>\n",
              "      <td>2.000000e-08</td>\n",
              "      <td>0.000001</td>\n",
              "      <td>1.960000e-06</td>\n",
              "      <td>1.290000e-06</td>\n",
              "      <td>1.661000e-05</td>\n",
              "      <td>2.359000e-05</td>\n",
              "      <td>2.599430e-03</td>\n",
              "      <td>9.730000e-06</td>\n",
              "      <td>0.010963</td>\n",
              "      <td>1.771000e-05</td>\n",
              "      <td>1.130000e-05</td>\n",
              "      <td>1.307000e-05</td>\n",
              "      <td>3.300000e-06</td>\n",
              "      <td>1.520000e-06</td>\n",
              "      <td>0.000003</td>\n",
              "      <td>4.600000e-07</td>\n",
              "      <td>1.900000e-07</td>\n",
              "      <td>2.300000e-07</td>\n",
              "      <td>4.500000e-07</td>\n",
              "      <td>1.550000e-06</td>\n",
              "      <td>3.964600e-04</td>\n",
              "      <td>2.035000e-05</td>\n",
              "      <td>0.000001</td>\n",
              "      <td>0.000026</td>\n",
              "      <td>0.000154</td>\n",
              "      <td>video8758.webm</td>\n",
              "    </tr>\n",
              "    <tr>\n",
              "      <th>2</th>\n",
              "      <td>0.001573</td>\n",
              "      <td>0.001398</td>\n",
              "      <td>0.071723</td>\n",
              "      <td>2.488000e-05</td>\n",
              "      <td>1.902000e-05</td>\n",
              "      <td>8.270000e-04</td>\n",
              "      <td>6.838070e-03</td>\n",
              "      <td>1.359300e-04</td>\n",
              "      <td>2.904000e-05</td>\n",
              "      <td>2.393100e-04</td>\n",
              "      <td>5.657900e-04</td>\n",
              "      <td>6.719000e-04</td>\n",
              "      <td>0.000265</td>\n",
              "      <td>0.000454</td>\n",
              "      <td>1.338000e-05</td>\n",
              "      <td>3.156000e-04</td>\n",
              "      <td>5.110800e-04</td>\n",
              "      <td>8.040000e-06</td>\n",
              "      <td>9.750000e-06</td>\n",
              "      <td>3.740000e-06</td>\n",
              "      <td>1.034000e-05</td>\n",
              "      <td>1.801030e-03</td>\n",
              "      <td>1.660000e-06</td>\n",
              "      <td>4.661000e-05</td>\n",
              "      <td>4.602800e-04</td>\n",
              "      <td>3.115000e-05</td>\n",
              "      <td>4.249600e-04</td>\n",
              "      <td>1.333400e-04</td>\n",
              "      <td>1.445600e-03</td>\n",
              "      <td>2.483600e-04</td>\n",
              "      <td>1.712200e-04</td>\n",
              "      <td>5.526000e-05</td>\n",
              "      <td>6.298570e-03</td>\n",
              "      <td>2.643500e-04</td>\n",
              "      <td>5.318000e-05</td>\n",
              "      <td>2.580000e-06</td>\n",
              "      <td>8.437000e-05</td>\n",
              "      <td>3.717900e-04</td>\n",
              "      <td>1.093100e-04</td>\n",
              "      <td>1.313000e-05</td>\n",
              "      <td>...</td>\n",
              "      <td>3.979090e-03</td>\n",
              "      <td>0.003753</td>\n",
              "      <td>0.002594</td>\n",
              "      <td>0.003642</td>\n",
              "      <td>0.030717</td>\n",
              "      <td>3.481370e-03</td>\n",
              "      <td>0.000595</td>\n",
              "      <td>1.133000e-05</td>\n",
              "      <td>0.000506</td>\n",
              "      <td>1.954000e-04</td>\n",
              "      <td>5.344000e-05</td>\n",
              "      <td>0.000353</td>\n",
              "      <td>8.660000e-06</td>\n",
              "      <td>1.816000e-04</td>\n",
              "      <td>9.014000e-05</td>\n",
              "      <td>0.000233</td>\n",
              "      <td>1.899890e-03</td>\n",
              "      <td>3.447500e-04</td>\n",
              "      <td>1.822000e-04</td>\n",
              "      <td>2.582200e-04</td>\n",
              "      <td>1.013890e-03</td>\n",
              "      <td>5.393000e-05</td>\n",
              "      <td>0.000069</td>\n",
              "      <td>1.925300e-04</td>\n",
              "      <td>1.410110e-03</td>\n",
              "      <td>8.689300e-04</td>\n",
              "      <td>1.412000e-05</td>\n",
              "      <td>8.568000e-05</td>\n",
              "      <td>0.001698</td>\n",
              "      <td>4.608000e-05</td>\n",
              "      <td>1.467470e-03</td>\n",
              "      <td>1.279700e-04</td>\n",
              "      <td>1.019300e-04</td>\n",
              "      <td>7.200000e-06</td>\n",
              "      <td>3.577000e-05</td>\n",
              "      <td>1.543550e-03</td>\n",
              "      <td>0.000034</td>\n",
              "      <td>0.000837</td>\n",
              "      <td>0.804485</td>\n",
              "      <td>video8762.webm</td>\n",
              "    </tr>\n",
              "    <tr>\n",
              "      <th>3</th>\n",
              "      <td>0.000358</td>\n",
              "      <td>0.003973</td>\n",
              "      <td>0.008803</td>\n",
              "      <td>7.740530e-03</td>\n",
              "      <td>4.029200e-04</td>\n",
              "      <td>1.938100e-04</td>\n",
              "      <td>9.094740e-03</td>\n",
              "      <td>1.752904e-02</td>\n",
              "      <td>2.852800e-04</td>\n",
              "      <td>2.582000e-05</td>\n",
              "      <td>3.279300e-04</td>\n",
              "      <td>1.333743e-02</td>\n",
              "      <td>0.000007</td>\n",
              "      <td>0.000169</td>\n",
              "      <td>1.221300e-04</td>\n",
              "      <td>6.851600e-04</td>\n",
              "      <td>8.164600e-04</td>\n",
              "      <td>3.790000e-06</td>\n",
              "      <td>1.249030e-03</td>\n",
              "      <td>2.968900e-04</td>\n",
              "      <td>1.730540e-03</td>\n",
              "      <td>1.745752e-02</td>\n",
              "      <td>4.575800e-04</td>\n",
              "      <td>1.184056e-02</td>\n",
              "      <td>6.208798e-02</td>\n",
              "      <td>9.157400e-04</td>\n",
              "      <td>3.288000e-05</td>\n",
              "      <td>1.933390e-03</td>\n",
              "      <td>1.349800e-03</td>\n",
              "      <td>3.050290e-03</td>\n",
              "      <td>2.015700e-04</td>\n",
              "      <td>1.381579e-01</td>\n",
              "      <td>2.006050e-03</td>\n",
              "      <td>2.664000e-05</td>\n",
              "      <td>1.112671e-02</td>\n",
              "      <td>2.893917e-02</td>\n",
              "      <td>7.646010e-03</td>\n",
              "      <td>1.535432e-02</td>\n",
              "      <td>6.984520e-03</td>\n",
              "      <td>4.241000e-04</td>\n",
              "      <td>...</td>\n",
              "      <td>8.891300e-04</td>\n",
              "      <td>0.001144</td>\n",
              "      <td>0.003669</td>\n",
              "      <td>0.006591</td>\n",
              "      <td>0.000239</td>\n",
              "      <td>4.588470e-03</td>\n",
              "      <td>0.003227</td>\n",
              "      <td>4.836100e-04</td>\n",
              "      <td>0.000935</td>\n",
              "      <td>6.927425e-02</td>\n",
              "      <td>4.976600e-04</td>\n",
              "      <td>0.016600</td>\n",
              "      <td>2.261100e-04</td>\n",
              "      <td>8.663884e-02</td>\n",
              "      <td>1.025600e-04</td>\n",
              "      <td>0.001129</td>\n",
              "      <td>2.641000e-05</td>\n",
              "      <td>4.527080e-03</td>\n",
              "      <td>3.471980e-03</td>\n",
              "      <td>4.550892e-02</td>\n",
              "      <td>6.679720e-03</td>\n",
              "      <td>1.158050e-03</td>\n",
              "      <td>0.001092</td>\n",
              "      <td>1.939896e-02</td>\n",
              "      <td>1.620340e-03</td>\n",
              "      <td>4.252310e-03</td>\n",
              "      <td>3.154230e-03</td>\n",
              "      <td>5.585500e-04</td>\n",
              "      <td>0.014796</td>\n",
              "      <td>1.822863e-02</td>\n",
              "      <td>5.824094e-02</td>\n",
              "      <td>2.662220e-03</td>\n",
              "      <td>2.824549e-02</td>\n",
              "      <td>5.214700e-04</td>\n",
              "      <td>5.476000e-05</td>\n",
              "      <td>2.431330e-03</td>\n",
              "      <td>0.000706</td>\n",
              "      <td>0.045552</td>\n",
              "      <td>0.001591</td>\n",
              "      <td>video8765.webm</td>\n",
              "    </tr>\n",
              "    <tr>\n",
              "      <th>4</th>\n",
              "      <td>0.007772</td>\n",
              "      <td>0.002302</td>\n",
              "      <td>0.003671</td>\n",
              "      <td>4.773000e-05</td>\n",
              "      <td>1.676000e-05</td>\n",
              "      <td>1.847000e-05</td>\n",
              "      <td>2.618600e-04</td>\n",
              "      <td>1.289600e-04</td>\n",
              "      <td>7.876000e-05</td>\n",
              "      <td>2.672000e-05</td>\n",
              "      <td>1.174700e-04</td>\n",
              "      <td>4.371500e-04</td>\n",
              "      <td>0.003945</td>\n",
              "      <td>0.000028</td>\n",
              "      <td>8.990000e-06</td>\n",
              "      <td>8.433700e-04</td>\n",
              "      <td>1.087000e-04</td>\n",
              "      <td>1.924000e-05</td>\n",
              "      <td>8.012600e-04</td>\n",
              "      <td>1.316000e-05</td>\n",
              "      <td>3.240000e-06</td>\n",
              "      <td>1.052590e-03</td>\n",
              "      <td>1.023580e-03</td>\n",
              "      <td>5.439000e-05</td>\n",
              "      <td>1.441502e-02</td>\n",
              "      <td>1.974000e-05</td>\n",
              "      <td>3.011000e-05</td>\n",
              "      <td>8.732000e-05</td>\n",
              "      <td>4.830700e-04</td>\n",
              "      <td>1.209890e-03</td>\n",
              "      <td>8.138000e-05</td>\n",
              "      <td>5.054500e-04</td>\n",
              "      <td>1.729110e-03</td>\n",
              "      <td>1.730700e-04</td>\n",
              "      <td>1.497600e-04</td>\n",
              "      <td>1.256100e-04</td>\n",
              "      <td>1.855200e-04</td>\n",
              "      <td>1.690800e-04</td>\n",
              "      <td>4.680000e-04</td>\n",
              "      <td>1.212600e-04</td>\n",
              "      <td>...</td>\n",
              "      <td>1.655870e-03</td>\n",
              "      <td>0.003851</td>\n",
              "      <td>0.000111</td>\n",
              "      <td>0.001212</td>\n",
              "      <td>0.000126</td>\n",
              "      <td>1.242000e-05</td>\n",
              "      <td>0.000106</td>\n",
              "      <td>1.869800e-04</td>\n",
              "      <td>0.000111</td>\n",
              "      <td>3.797700e-04</td>\n",
              "      <td>3.940000e-05</td>\n",
              "      <td>0.000077</td>\n",
              "      <td>3.551000e-05</td>\n",
              "      <td>6.488700e-04</td>\n",
              "      <td>6.266000e-05</td>\n",
              "      <td>0.000469</td>\n",
              "      <td>2.395000e-05</td>\n",
              "      <td>1.465150e-03</td>\n",
              "      <td>2.346849e-01</td>\n",
              "      <td>4.729500e-04</td>\n",
              "      <td>3.030400e-04</td>\n",
              "      <td>6.653800e-04</td>\n",
              "      <td>0.000614</td>\n",
              "      <td>6.651000e-05</td>\n",
              "      <td>4.460000e-06</td>\n",
              "      <td>1.426760e-03</td>\n",
              "      <td>1.660000e-06</td>\n",
              "      <td>1.916700e-04</td>\n",
              "      <td>0.001640</td>\n",
              "      <td>1.099100e-03</td>\n",
              "      <td>2.225000e-04</td>\n",
              "      <td>1.110000e-05</td>\n",
              "      <td>8.693400e-04</td>\n",
              "      <td>6.538000e-05</td>\n",
              "      <td>6.150000e-06</td>\n",
              "      <td>2.710900e-04</td>\n",
              "      <td>0.017517</td>\n",
              "      <td>0.666933</td>\n",
              "      <td>0.002858</td>\n",
              "      <td>video8759.webm</td>\n",
              "    </tr>\n",
              "    <tr>\n",
              "      <th>...</th>\n",
              "      <td>...</td>\n",
              "      <td>...</td>\n",
              "      <td>...</td>\n",
              "      <td>...</td>\n",
              "      <td>...</td>\n",
              "      <td>...</td>\n",
              "      <td>...</td>\n",
              "      <td>...</td>\n",
              "      <td>...</td>\n",
              "      <td>...</td>\n",
              "      <td>...</td>\n",
              "      <td>...</td>\n",
              "      <td>...</td>\n",
              "      <td>...</td>\n",
              "      <td>...</td>\n",
              "      <td>...</td>\n",
              "      <td>...</td>\n",
              "      <td>...</td>\n",
              "      <td>...</td>\n",
              "      <td>...</td>\n",
              "      <td>...</td>\n",
              "      <td>...</td>\n",
              "      <td>...</td>\n",
              "      <td>...</td>\n",
              "      <td>...</td>\n",
              "      <td>...</td>\n",
              "      <td>...</td>\n",
              "      <td>...</td>\n",
              "      <td>...</td>\n",
              "      <td>...</td>\n",
              "      <td>...</td>\n",
              "      <td>...</td>\n",
              "      <td>...</td>\n",
              "      <td>...</td>\n",
              "      <td>...</td>\n",
              "      <td>...</td>\n",
              "      <td>...</td>\n",
              "      <td>...</td>\n",
              "      <td>...</td>\n",
              "      <td>...</td>\n",
              "      <td>...</td>\n",
              "      <td>...</td>\n",
              "      <td>...</td>\n",
              "      <td>...</td>\n",
              "      <td>...</td>\n",
              "      <td>...</td>\n",
              "      <td>...</td>\n",
              "      <td>...</td>\n",
              "      <td>...</td>\n",
              "      <td>...</td>\n",
              "      <td>...</td>\n",
              "      <td>...</td>\n",
              "      <td>...</td>\n",
              "      <td>...</td>\n",
              "      <td>...</td>\n",
              "      <td>...</td>\n",
              "      <td>...</td>\n",
              "      <td>...</td>\n",
              "      <td>...</td>\n",
              "      <td>...</td>\n",
              "      <td>...</td>\n",
              "      <td>...</td>\n",
              "      <td>...</td>\n",
              "      <td>...</td>\n",
              "      <td>...</td>\n",
              "      <td>...</td>\n",
              "      <td>...</td>\n",
              "      <td>...</td>\n",
              "      <td>...</td>\n",
              "      <td>...</td>\n",
              "      <td>...</td>\n",
              "      <td>...</td>\n",
              "      <td>...</td>\n",
              "      <td>...</td>\n",
              "      <td>...</td>\n",
              "      <td>...</td>\n",
              "      <td>...</td>\n",
              "      <td>...</td>\n",
              "      <td>...</td>\n",
              "      <td>...</td>\n",
              "      <td>...</td>\n",
              "    </tr>\n",
              "    <tr>\n",
              "      <th>1995</th>\n",
              "      <td>0.914092</td>\n",
              "      <td>0.004096</td>\n",
              "      <td>0.000003</td>\n",
              "      <td>7.000000e-07</td>\n",
              "      <td>3.900000e-07</td>\n",
              "      <td>2.700000e-07</td>\n",
              "      <td>2.293000e-05</td>\n",
              "      <td>9.900000e-07</td>\n",
              "      <td>3.270000e-06</td>\n",
              "      <td>5.760000e-06</td>\n",
              "      <td>1.150000e-06</td>\n",
              "      <td>5.080000e-06</td>\n",
              "      <td>0.000403</td>\n",
              "      <td>0.000266</td>\n",
              "      <td>2.500000e-07</td>\n",
              "      <td>1.136000e-05</td>\n",
              "      <td>1.010000e-06</td>\n",
              "      <td>2.600000e-07</td>\n",
              "      <td>8.000000e-07</td>\n",
              "      <td>3.396000e-05</td>\n",
              "      <td>1.300000e-07</td>\n",
              "      <td>2.900000e-07</td>\n",
              "      <td>2.600000e-07</td>\n",
              "      <td>1.800000e-07</td>\n",
              "      <td>2.220000e-05</td>\n",
              "      <td>5.000000e-08</td>\n",
              "      <td>1.337000e-05</td>\n",
              "      <td>2.400000e-07</td>\n",
              "      <td>5.300000e-07</td>\n",
              "      <td>4.000000e-08</td>\n",
              "      <td>8.700000e-07</td>\n",
              "      <td>2.900000e-07</td>\n",
              "      <td>3.750000e-06</td>\n",
              "      <td>1.553290e-03</td>\n",
              "      <td>1.170000e-06</td>\n",
              "      <td>5.000000e-08</td>\n",
              "      <td>3.490000e-06</td>\n",
              "      <td>4.900000e-07</td>\n",
              "      <td>2.704600e-04</td>\n",
              "      <td>1.000000e-08</td>\n",
              "      <td>...</td>\n",
              "      <td>1.060986e-02</td>\n",
              "      <td>0.002329</td>\n",
              "      <td>0.002555</td>\n",
              "      <td>0.001902</td>\n",
              "      <td>0.000269</td>\n",
              "      <td>5.000000e-07</td>\n",
              "      <td>0.000011</td>\n",
              "      <td>1.870000e-06</td>\n",
              "      <td>0.000003</td>\n",
              "      <td>8.000000e-07</td>\n",
              "      <td>1.920000e-06</td>\n",
              "      <td>0.000015</td>\n",
              "      <td>8.000000e-08</td>\n",
              "      <td>1.030000e-06</td>\n",
              "      <td>3.200000e-07</td>\n",
              "      <td>0.000935</td>\n",
              "      <td>2.500000e-07</td>\n",
              "      <td>2.090000e-06</td>\n",
              "      <td>1.770000e-06</td>\n",
              "      <td>5.300000e-07</td>\n",
              "      <td>2.260000e-06</td>\n",
              "      <td>2.100000e-07</td>\n",
              "      <td>0.000020</td>\n",
              "      <td>6.300000e-07</td>\n",
              "      <td>1.950000e-06</td>\n",
              "      <td>1.560000e-06</td>\n",
              "      <td>2.000000e-08</td>\n",
              "      <td>5.900000e-07</td>\n",
              "      <td>0.000076</td>\n",
              "      <td>2.449000e-05</td>\n",
              "      <td>1.100000e-07</td>\n",
              "      <td>2.000000e-08</td>\n",
              "      <td>3.025800e-04</td>\n",
              "      <td>5.100000e-07</td>\n",
              "      <td>5.000000e-08</td>\n",
              "      <td>2.050000e-06</td>\n",
              "      <td>0.000163</td>\n",
              "      <td>0.001659</td>\n",
              "      <td>0.000017</td>\n",
              "      <td>video8754.webm</td>\n",
              "    </tr>\n",
              "    <tr>\n",
              "      <th>1996</th>\n",
              "      <td>0.102068</td>\n",
              "      <td>0.003517</td>\n",
              "      <td>0.000012</td>\n",
              "      <td>2.100000e-07</td>\n",
              "      <td>2.300000e-07</td>\n",
              "      <td>1.680000e-06</td>\n",
              "      <td>4.840000e-06</td>\n",
              "      <td>1.780000e-06</td>\n",
              "      <td>1.510000e-06</td>\n",
              "      <td>3.380000e-06</td>\n",
              "      <td>3.130000e-06</td>\n",
              "      <td>4.500000e-07</td>\n",
              "      <td>0.000122</td>\n",
              "      <td>0.152806</td>\n",
              "      <td>1.600000e-07</td>\n",
              "      <td>3.990000e-06</td>\n",
              "      <td>6.200000e-07</td>\n",
              "      <td>9.000000e-08</td>\n",
              "      <td>3.200000e-07</td>\n",
              "      <td>5.284000e-05</td>\n",
              "      <td>1.000000e-08</td>\n",
              "      <td>3.100000e-07</td>\n",
              "      <td>2.600000e-07</td>\n",
              "      <td>7.000000e-08</td>\n",
              "      <td>9.973000e-05</td>\n",
              "      <td>2.000000e-08</td>\n",
              "      <td>4.512800e-04</td>\n",
              "      <td>2.300000e-07</td>\n",
              "      <td>6.620000e-06</td>\n",
              "      <td>3.600000e-07</td>\n",
              "      <td>4.400000e-07</td>\n",
              "      <td>1.840000e-06</td>\n",
              "      <td>1.100000e-07</td>\n",
              "      <td>5.805685e-01</td>\n",
              "      <td>2.540000e-06</td>\n",
              "      <td>1.000000e-08</td>\n",
              "      <td>5.170000e-06</td>\n",
              "      <td>2.153000e-05</td>\n",
              "      <td>7.179200e-04</td>\n",
              "      <td>5.000000e-07</td>\n",
              "      <td>...</td>\n",
              "      <td>1.109207e-01</td>\n",
              "      <td>0.000026</td>\n",
              "      <td>0.000203</td>\n",
              "      <td>0.003872</td>\n",
              "      <td>0.000055</td>\n",
              "      <td>1.190000e-06</td>\n",
              "      <td>0.000002</td>\n",
              "      <td>2.600000e-07</td>\n",
              "      <td>0.000013</td>\n",
              "      <td>1.900000e-07</td>\n",
              "      <td>2.600000e-07</td>\n",
              "      <td>0.000051</td>\n",
              "      <td>8.000000e-08</td>\n",
              "      <td>1.500000e-07</td>\n",
              "      <td>4.100000e-07</td>\n",
              "      <td>0.038156</td>\n",
              "      <td>1.000000e-08</td>\n",
              "      <td>4.300000e-07</td>\n",
              "      <td>5.600000e-07</td>\n",
              "      <td>2.400000e-07</td>\n",
              "      <td>8.390000e-06</td>\n",
              "      <td>8.000000e-08</td>\n",
              "      <td>0.000002</td>\n",
              "      <td>1.800000e-06</td>\n",
              "      <td>3.500000e-07</td>\n",
              "      <td>7.400000e-07</td>\n",
              "      <td>1.000000e-08</td>\n",
              "      <td>1.600000e-07</td>\n",
              "      <td>0.000024</td>\n",
              "      <td>1.640000e-06</td>\n",
              "      <td>8.000000e-08</td>\n",
              "      <td>1.700000e-07</td>\n",
              "      <td>1.422000e-05</td>\n",
              "      <td>8.100000e-07</td>\n",
              "      <td>1.000000e-08</td>\n",
              "      <td>4.780000e-06</td>\n",
              "      <td>0.000002</td>\n",
              "      <td>0.000002</td>\n",
              "      <td>0.000632</td>\n",
              "      <td>video8753.webm</td>\n",
              "    </tr>\n",
              "    <tr>\n",
              "      <th>1997</th>\n",
              "      <td>0.000211</td>\n",
              "      <td>0.005816</td>\n",
              "      <td>0.000233</td>\n",
              "      <td>3.773480e-03</td>\n",
              "      <td>5.860900e-04</td>\n",
              "      <td>2.424000e-05</td>\n",
              "      <td>7.539300e-04</td>\n",
              "      <td>6.415880e-03</td>\n",
              "      <td>5.360000e-05</td>\n",
              "      <td>6.370000e-05</td>\n",
              "      <td>1.629700e-04</td>\n",
              "      <td>1.358843e-01</td>\n",
              "      <td>0.001245</td>\n",
              "      <td>0.034123</td>\n",
              "      <td>9.300000e-07</td>\n",
              "      <td>3.561264e-01</td>\n",
              "      <td>3.262415e-02</td>\n",
              "      <td>1.072100e-03</td>\n",
              "      <td>1.256300e-04</td>\n",
              "      <td>1.167000e-05</td>\n",
              "      <td>6.739000e-05</td>\n",
              "      <td>1.442000e-05</td>\n",
              "      <td>1.562300e-04</td>\n",
              "      <td>2.743200e-04</td>\n",
              "      <td>5.939760e-03</td>\n",
              "      <td>8.495300e-04</td>\n",
              "      <td>4.576310e-03</td>\n",
              "      <td>2.790000e-05</td>\n",
              "      <td>6.308700e-04</td>\n",
              "      <td>3.421590e-03</td>\n",
              "      <td>4.469000e-05</td>\n",
              "      <td>9.175240e-03</td>\n",
              "      <td>2.551000e-05</td>\n",
              "      <td>9.463220e-03</td>\n",
              "      <td>4.139200e-04</td>\n",
              "      <td>9.318000e-05</td>\n",
              "      <td>4.917000e-04</td>\n",
              "      <td>4.481300e-04</td>\n",
              "      <td>7.479000e-04</td>\n",
              "      <td>2.997190e-03</td>\n",
              "      <td>...</td>\n",
              "      <td>1.025580e-03</td>\n",
              "      <td>0.015899</td>\n",
              "      <td>0.000072</td>\n",
              "      <td>0.177608</td>\n",
              "      <td>0.001026</td>\n",
              "      <td>1.360400e-04</td>\n",
              "      <td>0.001503</td>\n",
              "      <td>2.652300e-04</td>\n",
              "      <td>0.059104</td>\n",
              "      <td>3.602600e-04</td>\n",
              "      <td>3.203000e-05</td>\n",
              "      <td>0.000734</td>\n",
              "      <td>5.217000e-05</td>\n",
              "      <td>7.236800e-04</td>\n",
              "      <td>3.584100e-04</td>\n",
              "      <td>0.000015</td>\n",
              "      <td>6.900000e-06</td>\n",
              "      <td>3.682200e-04</td>\n",
              "      <td>2.424400e-04</td>\n",
              "      <td>4.368000e-05</td>\n",
              "      <td>8.322000e-05</td>\n",
              "      <td>6.836000e-05</td>\n",
              "      <td>0.022758</td>\n",
              "      <td>1.100027e-02</td>\n",
              "      <td>9.883200e-04</td>\n",
              "      <td>1.084000e-05</td>\n",
              "      <td>9.690000e-06</td>\n",
              "      <td>2.304770e-03</td>\n",
              "      <td>0.001003</td>\n",
              "      <td>1.386900e-04</td>\n",
              "      <td>9.180000e-05</td>\n",
              "      <td>8.046000e-05</td>\n",
              "      <td>6.471200e-04</td>\n",
              "      <td>2.599800e-04</td>\n",
              "      <td>1.980000e-06</td>\n",
              "      <td>2.963520e-03</td>\n",
              "      <td>0.000322</td>\n",
              "      <td>0.000693</td>\n",
              "      <td>0.013163</td>\n",
              "      <td>video8755.webm</td>\n",
              "    </tr>\n",
              "    <tr>\n",
              "      <th>1998</th>\n",
              "      <td>0.001027</td>\n",
              "      <td>0.000088</td>\n",
              "      <td>0.000105</td>\n",
              "      <td>6.000000e-08</td>\n",
              "      <td>1.100000e-07</td>\n",
              "      <td>5.000000e-08</td>\n",
              "      <td>5.700000e-07</td>\n",
              "      <td>2.000000e-08</td>\n",
              "      <td>5.500000e-07</td>\n",
              "      <td>1.032000e-05</td>\n",
              "      <td>4.430000e-06</td>\n",
              "      <td>2.140000e-06</td>\n",
              "      <td>0.000004</td>\n",
              "      <td>0.000166</td>\n",
              "      <td>7.000000e-08</td>\n",
              "      <td>3.500000e-06</td>\n",
              "      <td>1.700000e-07</td>\n",
              "      <td>8.000000e-08</td>\n",
              "      <td>5.000000e-08</td>\n",
              "      <td>1.741000e-05</td>\n",
              "      <td>1.100000e-07</td>\n",
              "      <td>5.000000e-08</td>\n",
              "      <td>1.000000e-08</td>\n",
              "      <td>9.000000e-08</td>\n",
              "      <td>7.260000e-06</td>\n",
              "      <td>6.000000e-08</td>\n",
              "      <td>1.359900e-04</td>\n",
              "      <td>2.000000e-07</td>\n",
              "      <td>2.600000e-07</td>\n",
              "      <td>4.000000e-07</td>\n",
              "      <td>1.200000e-07</td>\n",
              "      <td>3.000000e-08</td>\n",
              "      <td>1.870000e-06</td>\n",
              "      <td>1.134200e-04</td>\n",
              "      <td>2.080000e-05</td>\n",
              "      <td>2.000000e-08</td>\n",
              "      <td>6.000000e-08</td>\n",
              "      <td>1.200000e-07</td>\n",
              "      <td>4.950000e-06</td>\n",
              "      <td>1.000000e-08</td>\n",
              "      <td>...</td>\n",
              "      <td>2.262460e-03</td>\n",
              "      <td>0.000104</td>\n",
              "      <td>0.000036</td>\n",
              "      <td>0.003967</td>\n",
              "      <td>0.000123</td>\n",
              "      <td>7.000000e-08</td>\n",
              "      <td>0.000051</td>\n",
              "      <td>3.000000e-08</td>\n",
              "      <td>0.000042</td>\n",
              "      <td>8.200000e-07</td>\n",
              "      <td>8.300000e-07</td>\n",
              "      <td>0.000002</td>\n",
              "      <td>4.000000e-08</td>\n",
              "      <td>1.000000e-07</td>\n",
              "      <td>2.630000e-06</td>\n",
              "      <td>0.000014</td>\n",
              "      <td>4.000000e-08</td>\n",
              "      <td>1.690000e-06</td>\n",
              "      <td>3.700000e-07</td>\n",
              "      <td>7.400000e-07</td>\n",
              "      <td>8.000000e-07</td>\n",
              "      <td>2.200000e-07</td>\n",
              "      <td>0.000002</td>\n",
              "      <td>4.100000e-07</td>\n",
              "      <td>1.660000e-06</td>\n",
              "      <td>2.920000e-06</td>\n",
              "      <td>0.000000e+00</td>\n",
              "      <td>8.800000e-07</td>\n",
              "      <td>0.000373</td>\n",
              "      <td>8.400000e-07</td>\n",
              "      <td>1.200000e-07</td>\n",
              "      <td>4.800000e-07</td>\n",
              "      <td>1.106000e-05</td>\n",
              "      <td>8.700000e-07</td>\n",
              "      <td>0.000000e+00</td>\n",
              "      <td>5.000000e-08</td>\n",
              "      <td>0.000698</td>\n",
              "      <td>0.000005</td>\n",
              "      <td>0.000041</td>\n",
              "      <td>video8757.webm</td>\n",
              "    </tr>\n",
              "    <tr>\n",
              "      <th>1999</th>\n",
              "      <td>0.002145</td>\n",
              "      <td>0.035881</td>\n",
              "      <td>0.000240</td>\n",
              "      <td>0.000000e+00</td>\n",
              "      <td>1.720000e-06</td>\n",
              "      <td>5.280000e-06</td>\n",
              "      <td>3.830000e-06</td>\n",
              "      <td>7.800000e-07</td>\n",
              "      <td>2.316000e-05</td>\n",
              "      <td>2.850000e-06</td>\n",
              "      <td>7.448200e-04</td>\n",
              "      <td>1.480000e-06</td>\n",
              "      <td>0.000311</td>\n",
              "      <td>0.000016</td>\n",
              "      <td>7.300000e-07</td>\n",
              "      <td>1.252200e-04</td>\n",
              "      <td>7.700000e-07</td>\n",
              "      <td>3.300000e-07</td>\n",
              "      <td>3.000000e-07</td>\n",
              "      <td>5.200000e-07</td>\n",
              "      <td>6.400000e-07</td>\n",
              "      <td>2.100000e-07</td>\n",
              "      <td>2.400000e-06</td>\n",
              "      <td>3.200000e-07</td>\n",
              "      <td>4.090000e-06</td>\n",
              "      <td>3.710000e-06</td>\n",
              "      <td>1.590930e-03</td>\n",
              "      <td>2.769000e-05</td>\n",
              "      <td>6.860000e-06</td>\n",
              "      <td>5.540000e-06</td>\n",
              "      <td>8.570000e-06</td>\n",
              "      <td>8.000000e-08</td>\n",
              "      <td>2.800000e-07</td>\n",
              "      <td>4.568440e-03</td>\n",
              "      <td>3.400000e-07</td>\n",
              "      <td>2.800000e-07</td>\n",
              "      <td>8.600000e-07</td>\n",
              "      <td>5.000000e-07</td>\n",
              "      <td>6.300000e-07</td>\n",
              "      <td>1.300000e-06</td>\n",
              "      <td>...</td>\n",
              "      <td>4.407650e-03</td>\n",
              "      <td>0.000681</td>\n",
              "      <td>0.000104</td>\n",
              "      <td>0.004389</td>\n",
              "      <td>0.000260</td>\n",
              "      <td>8.900000e-07</td>\n",
              "      <td>0.000036</td>\n",
              "      <td>1.015000e-05</td>\n",
              "      <td>0.000943</td>\n",
              "      <td>8.710000e-06</td>\n",
              "      <td>1.933000e-05</td>\n",
              "      <td>0.000003</td>\n",
              "      <td>1.960000e-06</td>\n",
              "      <td>6.290000e-06</td>\n",
              "      <td>1.190000e-06</td>\n",
              "      <td>0.000004</td>\n",
              "      <td>7.000000e-08</td>\n",
              "      <td>2.100000e-07</td>\n",
              "      <td>5.910000e-06</td>\n",
              "      <td>1.050000e-06</td>\n",
              "      <td>2.870000e-06</td>\n",
              "      <td>7.000000e-08</td>\n",
              "      <td>0.000020</td>\n",
              "      <td>1.140000e-06</td>\n",
              "      <td>9.410000e-06</td>\n",
              "      <td>1.210000e-06</td>\n",
              "      <td>4.000000e-08</td>\n",
              "      <td>2.260000e-06</td>\n",
              "      <td>0.000055</td>\n",
              "      <td>5.200000e-07</td>\n",
              "      <td>1.790000e-06</td>\n",
              "      <td>1.050000e-06</td>\n",
              "      <td>5.920000e-05</td>\n",
              "      <td>1.173000e-05</td>\n",
              "      <td>4.000000e-08</td>\n",
              "      <td>1.400000e-07</td>\n",
              "      <td>0.000015</td>\n",
              "      <td>0.000001</td>\n",
              "      <td>0.000743</td>\n",
              "      <td>video8756.webm</td>\n",
              "    </tr>\n",
              "  </tbody>\n",
              "</table>\n",
              "<p>2000 rows × 102 columns</p>\n",
              "</div>"
            ],
            "text/plain": [
              "             0         1         2  ...        99       100           video\n",
              "0     0.001339  0.000271  0.000396  ...  0.001017  0.000176  video8764.webm\n",
              "1     0.000001  0.000012  0.000025  ...  0.000026  0.000154  video8758.webm\n",
              "2     0.001573  0.001398  0.071723  ...  0.000837  0.804485  video8762.webm\n",
              "3     0.000358  0.003973  0.008803  ...  0.045552  0.001591  video8765.webm\n",
              "4     0.007772  0.002302  0.003671  ...  0.666933  0.002858  video8759.webm\n",
              "...        ...       ...       ...  ...       ...       ...             ...\n",
              "1995  0.914092  0.004096  0.000003  ...  0.001659  0.000017  video8754.webm\n",
              "1996  0.102068  0.003517  0.000012  ...  0.000002  0.000632  video8753.webm\n",
              "1997  0.000211  0.005816  0.000233  ...  0.000693  0.013163  video8755.webm\n",
              "1998  0.001027  0.000088  0.000105  ...  0.000005  0.000041  video8757.webm\n",
              "1999  0.002145  0.035881  0.000240  ...  0.000001  0.000743  video8756.webm\n",
              "\n",
              "[2000 rows x 102 columns]"
            ]
          },
          "metadata": {
            "tags": []
          },
          "execution_count": 87
        }
      ]
    },
    {
      "cell_type": "markdown",
      "metadata": {
        "id": "XXw_bYwuMXQm"
      },
      "source": [
        "*C3D testset features from the training set are now ready and they can be used directly into model*"
      ]
    },
    {
      "cell_type": "code",
      "metadata": {
        "id": "WfzY92W5yEud"
      },
      "source": [
        "\n",
        "def Get_score(Y_pred,Y_true):\n",
        "    '''Calculate the Spearmann\"s correlation coefficient'''\n",
        "    Y_pred = np.squeeze(Y_pred)\n",
        "    Y_true = np.squeeze(Y_true)\n",
        "    if Y_pred.shape != Y_true.shape:\n",
        "        print('Input shapes don\\'t match!')\n",
        "    else:\n",
        "        if len(Y_pred.shape) == 1:\n",
        "            Res = pd.DataFrame({'Y_true':Y_true,'Y_pred':Y_pred})\n",
        "            score_mat = Res[['Y_true','Y_pred']].corr(method='spearman',min_periods=1)\n",
        "            print('The Spearman\\'s correlation coefficient is: %.3f' % score_mat.iloc[1][0])\n",
        "        else:\n",
        "            for ii in range(Y_pred.shape[1]):\n",
        "                Get_score(Y_pred[:,ii],Y_true[:,ii])"
      ],
      "execution_count": null,
      "outputs": []
    },
    {
      "cell_type": "code",
      "metadata": {
        "id": "T47H848A2F2e"
      },
      "source": [
        "X_test = c3d_test"
      ],
      "execution_count": null,
      "outputs": []
    },
    {
      "cell_type": "markdown",
      "metadata": {
        "id": "BohcCj2SMhMN"
      },
      "source": [
        "*Fitting the C3D testset features into Random Forest Model*"
      ]
    },
    {
      "cell_type": "code",
      "metadata": {
        "colab": {
          "base_uri": "https://localhost:8080/"
        },
        "id": "gXWnJSdP2GFz",
        "outputId": "c45e3153-375a-47b2-ee62-94ee3171e12e"
      },
      "source": [
        "\n",
        "from sklearn.ensemble import RandomForestRegressor\n",
        "RFregressor = RandomForestRegressor(n_estimators = 150)\n",
        "RFregressor.fit(X, y)"
      ],
      "execution_count": null,
      "outputs": [
        {
          "output_type": "execute_result",
          "data": {
            "text/plain": [
              "RandomForestRegressor(bootstrap=True, ccp_alpha=0.0, criterion='mse',\n",
              "                      max_depth=None, max_features='auto', max_leaf_nodes=None,\n",
              "                      max_samples=None, min_impurity_decrease=0.0,\n",
              "                      min_impurity_split=None, min_samples_leaf=1,\n",
              "                      min_samples_split=2, min_weight_fraction_leaf=0.0,\n",
              "                      n_estimators=150, n_jobs=None, oob_score=False,\n",
              "                      random_state=None, verbose=0, warm_start=False)"
            ]
          },
          "metadata": {
            "tags": []
          },
          "execution_count": 108
        }
      ]
    },
    {
      "cell_type": "code",
      "metadata": {
        "id": "jJWxcgym3YjJ"
      },
      "source": [
        "y_pred = RFregressor.predict(X_test)"
      ],
      "execution_count": null,
      "outputs": []
    },
    {
      "cell_type": "markdown",
      "metadata": {
        "id": "he1gJ3XLM1JE"
      },
      "source": [
        "*Printing the predicted C3D testset features short-term and long-term memorability scores*"
      ]
    },
    {
      "cell_type": "code",
      "metadata": {
        "colab": {
          "base_uri": "https://localhost:8080/"
        },
        "id": "dWKj_Xmv3YzX",
        "outputId": "d3ff219d-f719-44da-bef4-10f5f20270ca"
      },
      "source": [
        "print(y_pred)"
      ],
      "execution_count": null,
      "outputs": [
        {
          "output_type": "stream",
          "text": [
            "[[0.85362    0.77127333]\n",
            " [0.81740667 0.73180667]\n",
            " [0.84244    0.74698667]\n",
            " ...\n",
            " [0.86530667 0.7579    ]\n",
            " [0.88654    0.84679333]\n",
            " [0.88033333 0.81538667]]\n"
          ],
          "name": "stdout"
        }
      ]
    },
    {
      "cell_type": "markdown",
      "metadata": {
        "id": "kJV5XfW8NAK7"
      },
      "source": [
        "*Creating a dataframe to predicted scores and assigning them to predictions variable*"
      ]
    },
    {
      "cell_type": "code",
      "metadata": {
        "id": "_76XS7SEpufO"
      },
      "source": [
        "predictions = pd.DataFrame(np.array(y_pred).reshape(2000,2), columns = (\"Short_term_memorability\",\"Long_term_memorability\"))"
      ],
      "execution_count": null,
      "outputs": []
    },
    {
      "cell_type": "code",
      "metadata": {
        "colab": {
          "base_uri": "https://localhost:8080/",
          "height": 402
        },
        "id": "gOX0UD1Npuid",
        "outputId": "16eb804a-69ec-4b8c-92e8-145989b70f81"
      },
      "source": [
        "predictions"
      ],
      "execution_count": null,
      "outputs": [
        {
          "output_type": "execute_result",
          "data": {
            "text/html": [
              "<div>\n",
              "<style scoped>\n",
              "    .dataframe tbody tr th:only-of-type {\n",
              "        vertical-align: middle;\n",
              "    }\n",
              "\n",
              "    .dataframe tbody tr th {\n",
              "        vertical-align: top;\n",
              "    }\n",
              "\n",
              "    .dataframe thead th {\n",
              "        text-align: right;\n",
              "    }\n",
              "</style>\n",
              "<table border=\"1\" class=\"dataframe\">\n",
              "  <thead>\n",
              "    <tr style=\"text-align: right;\">\n",
              "      <th></th>\n",
              "      <th>Short_term_memorability</th>\n",
              "      <th>Long_term_memorability</th>\n",
              "    </tr>\n",
              "  </thead>\n",
              "  <tbody>\n",
              "    <tr>\n",
              "      <th>0</th>\n",
              "      <td>0.853620</td>\n",
              "      <td>0.771273</td>\n",
              "    </tr>\n",
              "    <tr>\n",
              "      <th>1</th>\n",
              "      <td>0.817407</td>\n",
              "      <td>0.731807</td>\n",
              "    </tr>\n",
              "    <tr>\n",
              "      <th>2</th>\n",
              "      <td>0.842440</td>\n",
              "      <td>0.746987</td>\n",
              "    </tr>\n",
              "    <tr>\n",
              "      <th>3</th>\n",
              "      <td>0.815647</td>\n",
              "      <td>0.711387</td>\n",
              "    </tr>\n",
              "    <tr>\n",
              "      <th>4</th>\n",
              "      <td>0.839380</td>\n",
              "      <td>0.778867</td>\n",
              "    </tr>\n",
              "    <tr>\n",
              "      <th>...</th>\n",
              "      <td>...</td>\n",
              "      <td>...</td>\n",
              "    </tr>\n",
              "    <tr>\n",
              "      <th>1995</th>\n",
              "      <td>0.887227</td>\n",
              "      <td>0.786307</td>\n",
              "    </tr>\n",
              "    <tr>\n",
              "      <th>1996</th>\n",
              "      <td>0.882205</td>\n",
              "      <td>0.795567</td>\n",
              "    </tr>\n",
              "    <tr>\n",
              "      <th>1997</th>\n",
              "      <td>0.865307</td>\n",
              "      <td>0.757900</td>\n",
              "    </tr>\n",
              "    <tr>\n",
              "      <th>1998</th>\n",
              "      <td>0.886540</td>\n",
              "      <td>0.846793</td>\n",
              "    </tr>\n",
              "    <tr>\n",
              "      <th>1999</th>\n",
              "      <td>0.880333</td>\n",
              "      <td>0.815387</td>\n",
              "    </tr>\n",
              "  </tbody>\n",
              "</table>\n",
              "<p>2000 rows × 2 columns</p>\n",
              "</div>"
            ],
            "text/plain": [
              "      Short_term_memorability  Long_term_memorability\n",
              "0                    0.853620                0.771273\n",
              "1                    0.817407                0.731807\n",
              "2                    0.842440                0.746987\n",
              "3                    0.815647                0.711387\n",
              "4                    0.839380                0.778867\n",
              "...                       ...                     ...\n",
              "1995                 0.887227                0.786307\n",
              "1996                 0.882205                0.795567\n",
              "1997                 0.865307                0.757900\n",
              "1998                 0.886540                0.846793\n",
              "1999                 0.880333                0.815387\n",
              "\n",
              "[2000 rows x 2 columns]"
            ]
          },
          "metadata": {
            "tags": []
          },
          "execution_count": 112
        }
      ]
    },
    {
      "cell_type": "markdown",
      "metadata": {
        "id": "7buKXiBGNMMR"
      },
      "source": [
        "*Saving the predicting scores in a .CSV file for future reference*"
      ]
    },
    {
      "cell_type": "code",
      "metadata": {
        "id": "udDV1ySD50qd"
      },
      "source": [
        "np.savetxt(\"predictions.csv\", predictions, delimiter = \",\")"
      ],
      "execution_count": null,
      "outputs": []
    }
  ]
}